{
 "cells": [
  {
   "cell_type": "code",
   "execution_count": 3,
   "id": "993a51c2",
   "metadata": {
    "scrolled": true
   },
   "outputs": [
    {
     "data": {
      "text/html": [
       "\n",
       "            <div>\n",
       "                <p><b>SparkSession - hive</b></p>\n",
       "                \n",
       "        <div>\n",
       "            <p><b>SparkContext</b></p>\n",
       "\n",
       "            <p><a href=\"http://DESKTOP-E8SRJD9:4040\">Spark UI</a></p>\n",
       "\n",
       "            <dl>\n",
       "              <dt>Version</dt>\n",
       "                <dd><code>v3.3.0</code></dd>\n",
       "              <dt>Master</dt>\n",
       "                <dd><code>local[*]</code></dd>\n",
       "              <dt>AppName</dt>\n",
       "                <dd><code>PySparkShell</code></dd>\n",
       "            </dl>\n",
       "        </div>\n",
       "        \n",
       "            </div>\n",
       "        "
      ],
      "text/plain": [
       "<pyspark.sql.session.SparkSession at 0x20068030d90>"
      ]
     },
     "execution_count": 3,
     "metadata": {},
     "output_type": "execute_result"
    }
   ],
   "source": [
    "from pyspark.sql import SparkSession\n",
    "spark = SparkSession.builder.appName('Date functions').getOrCreate()\n",
    "spark"
   ]
  },
  {
   "cell_type": "code",
   "execution_count": 109,
   "id": "be0752bb",
   "metadata": {},
   "outputs": [],
   "source": [
    "from pyspark.sql.functions import *\n",
    "\n",
    "# create sample DataFrame\n",
    "data = [(\"2022-03-15\", \"2022-03-16 12:34:56.789\"), \n",
    "        (\"2022-03-01\", \"2022-03-16 01:23:45.678\")]\n",
    "\n",
    "df = spark.createDataFrame(data, [\"date_col\", \"date_time_col\"])"
   ]
  },
  {
   "cell_type": "code",
   "execution_count": 113,
   "id": "9bd88776",
   "metadata": {},
   "outputs": [
    {
     "name": "stdout",
     "output_type": "stream",
     "text": [
      "+----------+-----------------------+----------+----+-----+---+----------+---------+----+-------+-------+\n",
      "|date_col  |date_time_col          |date      |year|month|day|WeekOfYear|DayOfYear|hour|minutes|seconds|\n",
      "+----------+-----------------------+----------+----+-----+---+----------+---------+----+-------+-------+\n",
      "|2022-03-15|2022-03-16 12:34:56.789|2022-03-16|2022|3    |16 |11        |75       |12  |34     |56     |\n",
      "|2022-03-01|2022-03-16 01:23:45.678|2022-03-16|2022|3    |16 |11        |75       |1   |23     |45     |\n",
      "+----------+-----------------------+----------+----+-----+---+----------+---------+----+-------+-------+\n",
      "\n",
      "+----------+-----------------------+------------+--------------------------+-------------------+------------------+------------------+------------------------+-----------------------+------------------------+-----------------------+\n",
      "|date_col  |date_time_col          |Current_date|CurrentDateTimestamp      |Begin_Date_of_month|Begin_Date_of_Year|Last_date_of_Month|First_date_of_prev_Month|Last_date_of_prev_Month|First_date_of_next_Month|Last_date_of_next_Month|\n",
      "+----------+-----------------------+------------+--------------------------+-------------------+------------------+------------------+------------------------+-----------------------+------------------------+-----------------------+\n",
      "|2022-03-15|2022-03-16 12:34:56.789|2024-01-07  |2024-01-07 19:00:35.251595|2022-03-01         |2022-01-01        |2022-03-31        |2022-02-01              |2022-02-28             |2022-04-01              |2022-04-30             |\n",
      "|2022-03-01|2022-03-16 01:23:45.678|2024-01-07  |2024-01-07 19:00:35.251595|2022-03-01         |2022-01-01        |2022-03-31        |2022-02-01              |2022-02-28             |2022-04-01              |2022-04-30             |\n",
      "+----------+-----------------------+------------+--------------------------+-------------------+------------------+------------------+------------------------+-----------------------+------------------------+-----------------------+\n",
      "\n",
      "+----------+-----------------------+----------+---------+--------------+-------------+\n",
      "|date_col  |date_time_col          |date      |diff_days|diff_in_months|diff_in_years|\n",
      "+----------+-----------------------+----------+---------+--------------+-------------+\n",
      "|2022-03-15|2022-03-16 12:34:56.789|2022-03-16|-1       |0.0           |0            |\n",
      "|2022-03-01|2022-03-16 01:23:45.678|2022-03-16|-15      |0.0           |0            |\n",
      "+----------+-----------------------+----------+---------+--------------+-------------+\n",
      "\n"
     ]
    }
   ],
   "source": [
    "\n",
    "\n",
    "df1 = df\\\n",
    "    .withColumn(\"date_col\", to_date(col('date_col'), \"yyyy-MM-dd\")) \\\n",
    "    .withColumn(\"date_time_col\", to_timestamp(col('date_time_col'), \"yyyy-MM-dd HH:mm:ss.SSS\")) \\\n",
    "    .withColumn(\"date\", date_format(col('date_time_col'), \"yyyy-MM-dd\")) \\\n",
    "    .withColumn(\"year\", year(col('date'))) \\\n",
    "    .withColumn(\"month\", month(col('date'))) \\\n",
    "    .withColumn(\"day\", dayofmonth(col('date'))) \\\n",
    "    .withColumn(\"WeekOfYear\", weekofyear(col('date'))) \\\n",
    "    .withColumn(\"DayOfYear\", dayofyear(col('date'))) \\\n",
    "    .withColumn(\"hour\", hour(col('date_time_col'))) \\\n",
    "    .withColumn(\"minutes\", minute(col('date_time_col'))) \\\n",
    "    .withColumn(\"seconds\", second(col('date_time_col'))) \n",
    "\n",
    "df1.show(truncate = False)\n",
    "\n",
    "df2 = df\\\n",
    "    .withColumn(\"date_col\", to_date(col('date_col'), \"yyyy-MM-dd\")) \\\n",
    "    .withColumn(\"date_time_col\", to_timestamp(col('date_time_col'), \"yyyy-MM-dd HH:mm:ss.SSS\")) \\\n",
    "    .withColumn(\"Current_date\", current_date()) \\\n",
    "    .withColumn(\"CurrentDateTimestamp\", current_timestamp()) \\\n",
    "    .withColumn(\"Begin_Date_of_month\", trunc(col('date_col'), \"MM\")) \\\n",
    "    .withColumn(\"Begin_Date_of_Year\", trunc(col('date_col'), \"yy\")) \\\n",
    "    .withColumn('Last_date_of_Month', last_day(col('date_col'))) \\\n",
    "    .withColumn('First_date_of_prev_Month', trunc(add_months(col('date_col'),-1),\"MM\"))\\\n",
    "    .withColumn('Last_date_of_prev_Month', last_day(add_months(col('date_col'),-1)))\\\n",
    "    .withColumn('First_date_of_next_Month', trunc(add_months(col('date_col'),1),\"MM\"))\\\n",
    "    .withColumn('Last_date_of_next_Month', last_day(add_months(col('date_col'),1)))   \n",
    "\n",
    "df2.show(truncate = False)\n",
    "\n",
    "df3 = df\\\n",
    "    .withColumn(\"date_col\", to_date(col('date_col'), \"yyyy-MM-dd\")) \\\n",
    "    .withColumn(\"date_time_col\", to_timestamp(col('date_time_col'), \"yyyy-MM-dd HH:mm:ss.SSS\")) \\\n",
    "    .withColumn(\"date\", date_format(col('date_time_col'), \"yyyy-MM-dd\")) \\\n",
    "    .withColumn('diff_days', datediff(col('date_col'), col('date_time_col'))) \\\n",
    "    .withColumn('diff_in_months', round(months_between(col('date_col'), col('date_time_col')))) \\\n",
    "    .withColumn('diff_in_years', year(col('date_col')) - year(col('date')))\n",
    "\n",
    "df3.show(truncate=False)"
   ]
  },
  {
   "cell_type": "code",
   "execution_count": null,
   "id": "8f542d9d",
   "metadata": {},
   "outputs": [],
   "source": []
  }
 ],
 "metadata": {
  "kernelspec": {
   "display_name": "Python 3 (ipykernel)",
   "language": "python",
   "name": "python3"
  },
  "language_info": {
   "codemirror_mode": {
    "name": "ipython",
    "version": 3
   },
   "file_extension": ".py",
   "mimetype": "text/x-python",
   "name": "python",
   "nbconvert_exporter": "python",
   "pygments_lexer": "ipython3",
   "version": "3.9.12"
  }
 },
 "nbformat": 4,
 "nbformat_minor": 5
}
