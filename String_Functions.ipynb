{
 "cells": [
  {
   "cell_type": "code",
   "execution_count": 43,
   "id": "147c87da",
   "metadata": {},
   "outputs": [],
   "source": [
    "from pyspark.sql import SparkSession\n",
    "spark = SparkSession.builder.appName('String Function').getOrCreate()"
   ]
  },
  {
   "cell_type": "code",
   "execution_count": 44,
   "id": "efcce24b",
   "metadata": {},
   "outputs": [],
   "source": [
    "from pyspark.sql.types import StructType, StructField, IntegerType, StringType"
   ]
  },
  {
   "cell_type": "code",
   "execution_count": 45,
   "id": "48a4daa3",
   "metadata": {},
   "outputs": [],
   "source": [
    "data = [  (1, 'John', 'Doe', 'john.doe@gmail.com', 'New York'),  \n",
    "          (2, 'Jane', 'Doe', 'jane.doe@yahoo.com', 'Los Angeles'), \n",
    "          (3, 'James', 'Smith', 'james.smith@gmail.com', 'Chicago'),  \n",
    "          (4, 'mary', 'Johnson', 'mary.johnson@example.in', 'Houston')\n",
    "       ]"
   ]
  },
  {
   "cell_type": "code",
   "execution_count": 46,
   "id": "1c0c89b2",
   "metadata": {},
   "outputs": [
    {
     "data": {
      "text/plain": [
       "[(1, 'John', 'Doe', 'john.doe@gmail.com', 'New York'),\n",
       " (2, 'Jane', 'Doe', 'jane.doe@yahoo.com', 'Los Angeles'),\n",
       " (3, 'James', 'Smith', 'james.smith@gmail.com', 'Chicago'),\n",
       " (4, 'mary', 'Johnson', 'mary.johnson@example.in', 'Houston')]"
      ]
     },
     "execution_count": 46,
     "metadata": {},
     "output_type": "execute_result"
    }
   ],
   "source": [
    "data"
   ]
  },
  {
   "cell_type": "code",
   "execution_count": 47,
   "id": "38ea82a5",
   "metadata": {
    "scrolled": true
   },
   "outputs": [
    {
     "name": "stdout",
     "output_type": "stream",
     "text": [
      "+---+-----+--------+-----------------------+-----------+\n",
      "|id |Name |Lastname|email                  |City       |\n",
      "+---+-----+--------+-----------------------+-----------+\n",
      "|1  |John |Doe     |john.doe@gmail.com     |New York   |\n",
      "|2  |Jane |Doe     |jane.doe@yahoo.com     |Los Angeles|\n",
      "|3  |James|Smith   |james.smith@gmail.com  |Chicago    |\n",
      "|4  |mary |Johnson |mary.johnson@example.in|Houston    |\n",
      "+---+-----+--------+-----------------------+-----------+\n",
      "\n"
     ]
    }
   ],
   "source": [
    "schema = StructType([\n",
    "    StructField('id',       IntegerType(), True),\n",
    "    StructField('Name',     StringType(), True),\n",
    "    StructField('Lastname', StringType(), True),\n",
    "    StructField('email',    StringType(), True),\n",
    "    StructField('City',     StringType(), True)\n",
    "])\n",
    "\n",
    "df = spark.createDataFrame(data, schema)\n",
    "df.show(truncate=False)"
   ]
  },
  {
   "cell_type": "markdown",
   "id": "5db69bc9",
   "metadata": {},
   "source": [
    "1) Make first letter of Name and Lastname as Capital\n",
    "2) Combine First and last name into 1\n",
    "3) Pull the domain of email id\n",
    "4) Pull the letter before domain\n",
    "5) Find the counts number of people living in each city\n",
    "6) Find the count of dataframe"
   ]
  },
  {
   "cell_type": "code",
   "execution_count": 67,
   "id": "ed6305fc",
   "metadata": {},
   "outputs": [
    {
     "name": "stdout",
     "output_type": "stream",
     "text": [
      "+---+-----+--------+-----------------------+-----------+------------+------+-----+-------+-------+-------+---+------+------------+\n",
      "|id |Name |Lastname|email                  |City       |Full Name   |domain|st1  |st2    |st3    |st4    |pos|substr|email_1_part|\n",
      "+---+-----+--------+-----------------------+-----------+------------+------+-----+-------+-------+-------+---+------+------------+\n",
      "|1  |John |Doe     |john.doe@gmail.com     |New York   |John Doe    |gmail |John |Doe    |gmail  |doe    |9  |john.d|John        |\n",
      "|2  |Jane |Doe     |jane.doe@yahoo.com     |Los Angeles|Jane Doe    |yahoo |Jane |Doe    |yahoo  |doe    |9  |jane.d|Jane        |\n",
      "|3  |James|Smith   |james.smith@gmail.com  |Chicago    |James Smith |gmail |James|Smith  |gmail  |smith  |12 |james.|James       |\n",
      "|4  |Mary |Johnson |mary.johnson@example.in|Houston    |Mary Johnson|      |Mary |Johnson|example|johnson|13 |mary.j|Mary        |\n",
      "+---+-----+--------+-----------------------+-----------+------------+------+-----+-------+-------+-------+---+------+------------+\n",
      "\n"
     ]
    }
   ],
   "source": [
    "from pyspark.sql.functions import initcap, col, concat, lit, regexp_extract, instr, substring, split,substring_index\n",
    "\n",
    "df = df\\\n",
    "    .withColumn('Name', initcap(col('Name')))\\\n",
    "    .withColumn('Full Name', concat(col('Name'), lit(' '), col('Lastname')))\\\n",
    "    .withColumn('domain', regexp_extract(col('email'), r'([a-zA-z]+)\\.com|in$',1))\\\n",
    "    .withColumn('st1', initcap(regexp_extract(col('email'), r'([a-zA-z]+)\\.([a-zA-Z]+)@([a-zA-Z]+)',1)))\\\n",
    "    .withColumn('st2', initcap(regexp_extract(col('email'), r'([a-zA-z]+)\\.([a-zA-Z]+)@([a-zA-Z]+)',2)))\\\n",
    "    .withColumn('st3', regexp_extract(col('email'), r'([a-zA-z]+)\\.([a-zA-Z]+)@([a-zA-Z]+)',3))\\\n",
    "    .withColumn('st4', regexp_extract(col('email'), r'([a-zA-z]+)@([a-zA-Z]+)',1))\\\n",
    "    .withColumn('pos', instr(col('email'),'@'))\n",
    "\n",
    "df.show(truncate=False)"
   ]
  },
  {
   "cell_type": "code",
   "execution_count": 49,
   "id": "6e4c3fff",
   "metadata": {},
   "outputs": [
    {
     "name": "stdout",
     "output_type": "stream",
     "text": [
      "+------+-----+\n",
      "|domain|count|\n",
      "+------+-----+\n",
      "| gmail|    2|\n",
      "| yahoo|    1|\n",
      "|      |    1|\n",
      "+------+-----+\n",
      "\n"
     ]
    }
   ],
   "source": [
    "from pyspark.sql.window import *\n",
    "group_by1 = df.groupBy('domain').count()\n",
    "group_by1.show()"
   ]
  },
  {
   "cell_type": "code",
   "execution_count": 50,
   "id": "171d01aa",
   "metadata": {},
   "outputs": [
    {
     "data": {
      "text/plain": [
       "4"
      ]
     },
     "execution_count": 50,
     "metadata": {},
     "output_type": "execute_result"
    }
   ],
   "source": [
    "df.count()"
   ]
  },
  {
   "cell_type": "code",
   "execution_count": 56,
   "id": "e73c3bc0",
   "metadata": {},
   "outputs": [
    {
     "name": "stdout",
     "output_type": "stream",
     "text": [
      "+-----------------------+----------+---------+------------+-------+--------+\n",
      "|email                  |first_name|last_name|Full_name   |domain |domain_1|\n",
      "+-----------------------+----------+---------+------------+-------+--------+\n",
      "|john.doe@gmail.com     |John      |Doe      |John Doe    |gmail  |com     |\n",
      "|jane.doe@yahoo.com     |Jane      |Doe      |Jane Doe    |yahoo  |com     |\n",
      "|james.smith@gmail.com  |James     |Smith    |James Smith |gmail  |com     |\n",
      "|mary.johnson@example.in|Mary      |Johnson  |Mary Johnson|example|in      |\n",
      "+-----------------------+----------+---------+------------+-------+--------+\n",
      "\n"
     ]
    }
   ],
   "source": [
    "df1 = df.select('email')\n",
    "\n",
    "\n",
    "df1 =  df1\\\n",
    "       .withColumn('first_name', initcap(substring_index( split(col('email'), '@')[0],'.',1)))\\\n",
    "       .withColumn('last_name', initcap(substring_index( split(col('email'), '@')[0],'.',-1)))\\\n",
    "       .withColumn('Full_name', concat(col('first_name'), lit(' '), col('last_name')))\\\n",
    "       .withColumn('domain', regexp_extract(col('email'), r'([a-zA-Z]+)\\.([a-zA-Z]+)$',1))\\\n",
    "       .withColumn('domain_1', regexp_extract(col('email'), r'([a-zA-Z]+)\\.([a-zA-Z]+)$',2))    \n",
    "\n",
    "\n",
    "df1.show(truncate=False)"
   ]
  },
  {
   "cell_type": "code",
   "execution_count": null,
   "id": "803ee7a1",
   "metadata": {},
   "outputs": [],
   "source": []
  }
 ],
 "metadata": {
  "kernelspec": {
   "display_name": "Python 3 (ipykernel)",
   "language": "python",
   "name": "python3"
  },
  "language_info": {
   "codemirror_mode": {
    "name": "ipython",
    "version": 3
   },
   "file_extension": ".py",
   "mimetype": "text/x-python",
   "name": "python",
   "nbconvert_exporter": "python",
   "pygments_lexer": "ipython3",
   "version": "3.9.12"
  }
 },
 "nbformat": 4,
 "nbformat_minor": 5
}
