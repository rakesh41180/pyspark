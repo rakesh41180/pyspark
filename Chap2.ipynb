{
 "cells": [
  {
   "cell_type": "code",
   "execution_count": 4,
   "id": "4618aced",
   "metadata": {},
   "outputs": [
    {
     "data": {
      "text/html": [
       "\n",
       "            <div>\n",
       "                <p><b>SparkSession - hive</b></p>\n",
       "                \n",
       "        <div>\n",
       "            <p><b>SparkContext</b></p>\n",
       "\n",
       "            <p><a href=\"http://DESKTOP-E8SRJD9:4040\">Spark UI</a></p>\n",
       "\n",
       "            <dl>\n",
       "              <dt>Version</dt>\n",
       "                <dd><code>v3.3.0</code></dd>\n",
       "              <dt>Master</dt>\n",
       "                <dd><code>local[*]</code></dd>\n",
       "              <dt>AppName</dt>\n",
       "                <dd><code>PySparkShell</code></dd>\n",
       "            </dl>\n",
       "        </div>\n",
       "        \n",
       "            </div>\n",
       "        "
      ],
      "text/plain": [
       "<pyspark.sql.session.SparkSession at 0x1f5cc360d90>"
      ]
     },
     "execution_count": 4,
     "metadata": {},
     "output_type": "execute_result"
    }
   ],
   "source": [
    "from pyspark.sql import SparkSession\n",
    "spark=SparkSession.builder.appName('Chap2').getOrCreate()\n",
    "spark"
   ]
  },
  {
   "cell_type": "code",
   "execution_count": 5,
   "id": "0aafb399",
   "metadata": {},
   "outputs": [],
   "source": [
    "file_location = 'movie_data_part1.csv'\n",
    "file_type = 'csv'\n",
    "InferSchema = False\n",
    "first_row_is_header = True\n",
    "delimiter = \"|\""
   ]
  },
  {
   "cell_type": "code",
   "execution_count": 6,
   "id": "3e1e9c11",
   "metadata": {},
   "outputs": [],
   "source": [
    "df = spark.read.format(file_type)\\\n",
    ".option(\"inferschema\", InferSchema)\\\n",
    ".option('header', first_row_is_header)\\\n",
    ".option('sep', delimiter)\\\n",
    ".load(file_location)"
   ]
  },
  {
   "cell_type": "code",
   "execution_count": 7,
   "id": "5c976dbb",
   "metadata": {},
   "outputs": [
    {
     "name": "stdout",
     "output_type": "stream",
     "text": [
      "The total number of records is 43998\n"
     ]
    }
   ],
   "source": [
    "#df.count()\n",
    "print(\"The total number of records is \" + str(df.count()))"
   ]
  },
  {
   "cell_type": "code",
   "execution_count": 8,
   "id": "295dc8e5",
   "metadata": {},
   "outputs": [
    {
     "name": "stdout",
     "output_type": "stream",
     "text": [
      "root\n",
      " |-- belongs_to_collection: string (nullable = true)\n",
      " |-- budget: string (nullable = true)\n",
      " |-- id: string (nullable = true)\n",
      " |-- original_language: string (nullable = true)\n",
      " |-- original_title: string (nullable = true)\n",
      " |-- overview: string (nullable = true)\n",
      " |-- popularity: string (nullable = true)\n",
      " |-- production_companies: string (nullable = true)\n",
      " |-- production_countries: string (nullable = true)\n",
      " |-- release_date: string (nullable = true)\n",
      " |-- revenue: string (nullable = true)\n",
      " |-- runtime: string (nullable = true)\n",
      " |-- status: string (nullable = true)\n",
      " |-- tagline: string (nullable = true)\n",
      " |-- title: string (nullable = true)\n",
      " |-- vote_average: string (nullable = true)\n",
      "\n"
     ]
    }
   ],
   "source": [
    "df.printSchema()"
   ]
  },
  {
   "cell_type": "code",
   "execution_count": 9,
   "id": "93a2f9d1",
   "metadata": {},
   "outputs": [
    {
     "data": {
      "text/plain": [
       "[('belongs_to_collection', 'string'),\n",
       " ('budget', 'string'),\n",
       " ('id', 'string'),\n",
       " ('original_language', 'string'),\n",
       " ('original_title', 'string'),\n",
       " ('overview', 'string'),\n",
       " ('popularity', 'string'),\n",
       " ('production_companies', 'string'),\n",
       " ('production_countries', 'string'),\n",
       " ('release_date', 'string'),\n",
       " ('revenue', 'string'),\n",
       " ('runtime', 'string'),\n",
       " ('status', 'string'),\n",
       " ('tagline', 'string'),\n",
       " ('title', 'string'),\n",
       " ('vote_average', 'string')]"
      ]
     },
     "execution_count": 9,
     "metadata": {},
     "output_type": "execute_result"
    }
   ],
   "source": [
    "df.dtypes"
   ]
  },
  {
   "cell_type": "code",
   "execution_count": 10,
   "id": "d02e872c",
   "metadata": {},
   "outputs": [
    {
     "name": "stdout",
     "output_type": "stream",
     "text": [
      "+-----+-------+------------------+------------+-------+--------------------------------------------------------+\n",
      "|id   |budget |popularity        |release_date|revenue|title                                                   |\n",
      "+-----+-------+------------------+------------+-------+--------------------------------------------------------+\n",
      "|43000|0      |2.503             |1962-05-23  |0      |The Elusive Corporal                                    |\n",
      "|43001|0      |5.51              |1962-11-12  |0      |Sundays and Cybele                                      |\n",
      "|43002|0      |5.62              |1962-05-24  |0      |Lonely Are the Brave                                    |\n",
      "|43003|0      |7.159             |1975-03-12  |0      |F for Fake                                              |\n",
      "|43004|500000 |3.988             |1962-10-09  |0      |Long Day's Journey Into Night                           |\n",
      "|43006|0      |3.194             |1962-03-09  |0      |My Geisha                                               |\n",
      "|43007|0      |2.689             |1962-10-31  |0      |Period of Adjustment                                    |\n",
      "|43008|0      |6.537             |1959-03-13  |0      |The Hanging Tree                                        |\n",
      "|43010|0      |4.297             |1962-01-01  |0      |Sherlock Holmes and the Deadly Necklace                 |\n",
      "|43011|0      |4.417             |1962-01-01  |0      |Sodom and Gomorrah                                      |\n",
      "|43012|7000000|4.7219999999999995|1962-11-21  |4000000|Taras Bulba                                             |\n",
      "|43013|0      |2.543             |1962-04-17  |0      |The Counterfeit Traitor                                 |\n",
      "|43014|0      |4.303             |1962-10-24  |0      |Tower of London                                         |\n",
      "|43015|0      |3.493             |1962-12-07  |0      |Varan the Unbelievable                                  |\n",
      "|43016|0      |2.851             |1962-01-01  |0      |Waltz of the Toreadors                                  |\n",
      "|43017|0      |4.047             |1961-10-11  |0      |Back Street                                             |\n",
      "|43018|0      |2.661             |1961-06-02  |0      |Gidget Goes Hawaiian                                    |\n",
      "|43019|0      |3.225             |2010-05-28  |0      |Schuks Tshabalala's Survival Guide to South Africa      |\n",
      "|43020|0      |5.72              |1961-06-15  |0      |The Colossus of Rhodes                                  |\n",
      "|43021|0      |3.292             |2008-08-22  |0      |Sex Galaxy                                              |\n",
      "|43022|0      |1.548             |1961-06-11  |0      |King of the Roaring 20's – The Story of Arnold Rothstein|\n",
      "|43023|0      |3.559             |1961-01-01  |0      |Konga                                                   |\n",
      "|43026|0      |3.444             |1961-12-13  |0      |Paris Belongs to Us                                     |\n",
      "|43027|0      |2.512             |1961-05-05  |0      |Teen Kanya                                              |\n",
      "|43028|0      |6.234             |1961-08-01  |0      |Victim                                                  |\n",
      "+-----+-------+------------------+------------+-------+--------------------------------------------------------+\n",
      "only showing top 25 rows\n",
      "\n"
     ]
    }
   ],
   "source": [
    "#subsetting the dataframe\n",
    "columns = ['id', 'budget', 'popularity', 'release_date', 'revenue', 'title']\n",
    "df = df.select(columns)\n",
    "df.show(25, False)"
   ]
  },
  {
   "cell_type": "code",
   "execution_count": 11,
   "id": "e76ab82d",
   "metadata": {},
   "outputs": [
    {
     "name": "stdout",
     "output_type": "stream",
     "text": [
      "+------------------+-------+\n",
      "|        popularity| budget|\n",
      "+------------------+-------+\n",
      "|             2.503|      0|\n",
      "|              5.51|      0|\n",
      "|              5.62|      0|\n",
      "|             7.159|      0|\n",
      "|             3.988| 500000|\n",
      "|             3.194|      0|\n",
      "|             2.689|      0|\n",
      "|             6.537|      0|\n",
      "|             4.297|      0|\n",
      "|             4.417|      0|\n",
      "|4.7219999999999995|7000000|\n",
      "|             2.543|      0|\n",
      "|             4.303|      0|\n",
      "|             3.493|      0|\n",
      "|             2.851|      0|\n",
      "|             4.047|      0|\n",
      "|             2.661|      0|\n",
      "|             3.225|      0|\n",
      "|              5.72|      0|\n",
      "|             3.292|      0|\n",
      "+------------------+-------+\n",
      "only showing top 20 rows\n",
      "\n"
     ]
    }
   ],
   "source": [
    "df.select(df[2], df[1]).show()"
   ]
  },
  {
   "cell_type": "code",
   "execution_count": 12,
   "id": "4996e45c",
   "metadata": {},
   "outputs": [
    {
     "data": {
      "text/plain": [
       "215"
      ]
     },
     "execution_count": 12,
     "metadata": {},
     "output_type": "execute_result"
    }
   ],
   "source": [
    "#missing value\n",
    "from pyspark.sql.functions import *\n",
    "\n",
    "df.filter((df['popularity'] == '') | (df['popularity'].isNull()) | isnan(df['popularity'])).count()"
   ]
  },
  {
   "cell_type": "code",
   "execution_count": 13,
   "id": "62ccbef5",
   "metadata": {},
   "outputs": [
    {
     "name": "stdout",
     "output_type": "stream",
     "text": [
      "+---+------+----------+------------+-------+-----+\n",
      "| id|budget|popularity|release_date|revenue|title|\n",
      "+---+------+----------+------------+-------+-----+\n",
      "|125|   125|       215|         221|    215|  304|\n",
      "+---+------+----------+------------+-------+-----+\n",
      "\n"
     ]
    }
   ],
   "source": [
    "df.select([count(when((col(c) == '')  | (col(c).isNull()) | (isnan(col(c))), c)).alias(c) for c in df.columns]).show()"
   ]
  },
  {
   "cell_type": "code",
   "execution_count": 14,
   "id": "bee44aa6",
   "metadata": {},
   "outputs": [
    {
     "name": "stdout",
     "output_type": "stream",
     "text": [
      "+--------------------+-----+\n",
      "|               Title|count|\n",
      "+--------------------+-----+\n",
      "|   The Corn Is Green|    1|\n",
      "|Meet The Browns -...|    1|\n",
      "|Morenita, El Esca...|    1|\n",
      "| Father Takes a Wife|    1|\n",
      "|The Werewolf of W...|    1|\n",
      "|My Wife Is a Gang...|    1|\n",
      "|Depeche Mode: Tou...|    1|\n",
      "|  A Woman Is a Woman|    1|\n",
      "|History Is Made a...|    1|\n",
      "|      Colombian Love|    1|\n",
      "|        Ace Attorney|    1|\n",
      "|     Not Like Others|    1|\n",
      "|40 Guns to Apache...|    1|\n",
      "|          Middle Men|    1|\n",
      "|         It's a Gift|    1|\n",
      "|    La Vie de Bohème|    1|\n",
      "|Rasputin: The Mad...|    1|\n",
      "|The Ballad of Jac...|    1|\n",
      "|         How to Deal|    1|\n",
      "|             Freaked|    1|\n",
      "+--------------------+-----+\n",
      "only showing top 20 rows\n",
      "\n"
     ]
    }
   ],
   "source": [
    "df.groupBy(col('Title')).count().show()"
   ]
  },
  {
   "cell_type": "code",
   "execution_count": 15,
   "id": "6f89cf90",
   "metadata": {},
   "outputs": [
    {
     "name": "stdout",
     "output_type": "stream",
     "text": [
      "+-----------------------------+-----+\n",
      "|Title                        |count|\n",
      "+-----------------------------+-----+\n",
      "|null                         |304  |\n",
      "|The Three Musketeers         |8    |\n",
      "|Les Misérables               |8    |\n",
      "|Cinderella                   |8    |\n",
      "|Dracula                      |7    |\n",
      "|The Island                   |7    |\n",
      "|Hamlet                       |7    |\n",
      "|Frankenstein                 |7    |\n",
      "|A Christmas Carol            |7    |\n",
      "|Crime and Punishment         |6    |\n",
      "|Beauty and the Beast         |6    |\n",
      "|Treasure Island              |6    |\n",
      "|Cleopatra                    |6    |\n",
      "|The Hound of the Baskervilles|6    |\n",
      "|First Love                   |6    |\n",
      "|Borderline                   |6    |\n",
      "|Framed                       |6    |\n",
      "|The Lost World               |6    |\n",
      "|Wuthering Heights            |5    |\n",
      "|The Intruder                 |5    |\n",
      "+-----------------------------+-----+\n",
      "only showing top 20 rows\n",
      "\n"
     ]
    }
   ],
   "source": [
    "df.groupBy(col('Title')).count().sort(desc(\"count\")).show(20, False)"
   ]
  },
  {
   "cell_type": "code",
   "execution_count": 16,
   "id": "b531c53a",
   "metadata": {},
   "outputs": [
    {
     "name": "stdout",
     "output_type": "stream",
     "text": [
      "+-----+------+----------+------------+-------+---------------------------------------+\n",
      "|id   |budget|popularity|release_date|revenue|title                                  |\n",
      "+-----+------+----------+------------+-------+---------------------------------------+\n",
      "|43000|0     |2.503     |1962-05-23  |0      |The Elusive Corporal                   |\n",
      "|43001|0     |5.51      |1962-11-12  |0      |Sundays and Cybele                     |\n",
      "|43002|0     |5.62      |1962-05-24  |0      |Lonely Are the Brave                   |\n",
      "|43003|0     |7.159     |1975-03-12  |0      |F for Fake                             |\n",
      "|43004|500000|3.988     |1962-10-09  |0      |Long Day's Journey Into Night          |\n",
      "|43006|0     |3.194     |1962-03-09  |0      |My Geisha                              |\n",
      "|43007|0     |2.689     |1962-10-31  |0      |Period of Adjustment                   |\n",
      "|43008|0     |6.537     |1959-03-13  |0      |The Hanging Tree                       |\n",
      "|43010|0     |4.297     |1962-01-01  |0      |Sherlock Holmes and the Deadly Necklace|\n",
      "|43011|0     |4.417     |1962-01-01  |0      |Sodom and Gomorrah                     |\n",
      "+-----+------+----------+------------+-------+---------------------------------------+\n",
      "only showing top 10 rows\n",
      "\n"
     ]
    }
   ],
   "source": [
    "df_temp = df.filter((col('Title') != '') | (col('Title').isNotNull()) | (~isnan(col('Title'))))\n",
    "df_temp.show(10, False)"
   ]
  },
  {
   "cell_type": "code",
   "execution_count": 17,
   "id": "dc2fe554",
   "metadata": {},
   "outputs": [
    {
     "name": "stdout",
     "output_type": "stream",
     "text": [
      "+--------------------+-----+\n",
      "|Title               |count|\n",
      "+--------------------+-----+\n",
      "|null                |304  |\n",
      "|The Three Musketeers|8    |\n",
      "|Les Misérables      |8    |\n",
      "|Cinderella          |8    |\n",
      "|The Island          |7    |\n",
      "|Frankenstein        |7    |\n",
      "|A Christmas Carol   |7    |\n",
      "|Hamlet              |7    |\n",
      "|Dracula             |7    |\n",
      "|Framed              |6    |\n",
      "+--------------------+-----+\n",
      "only showing top 10 rows\n",
      "\n"
     ]
    }
   ],
   "source": [
    "df_temp.groupBy('Title').count().filter(col('count') >= 4).sort(col('count').desc()).show(10, False)"
   ]
  },
  {
   "cell_type": "code",
   "execution_count": 18,
   "id": "52c68ac6",
   "metadata": {},
   "outputs": [],
   "source": [
    "#del df_temp"
   ]
  },
  {
   "cell_type": "code",
   "execution_count": 19,
   "id": "588b0e4b",
   "metadata": {},
   "outputs": [
    {
     "data": {
      "text/plain": [
       "[('id', 'string'),\n",
       " ('budget', 'string'),\n",
       " ('popularity', 'string'),\n",
       " ('release_date', 'string'),\n",
       " ('revenue', 'string'),\n",
       " ('title', 'string')]"
      ]
     },
     "execution_count": 19,
     "metadata": {},
     "output_type": "execute_result"
    }
   ],
   "source": [
    "df.dtypes"
   ]
  },
  {
   "cell_type": "code",
   "execution_count": 20,
   "id": "3defa1c0",
   "metadata": {},
   "outputs": [],
   "source": [
    "df = df.withColumn(\"budget\", col('budget').cast('float'))"
   ]
  },
  {
   "cell_type": "code",
   "execution_count": 21,
   "id": "b0b769b6",
   "metadata": {},
   "outputs": [
    {
     "data": {
      "text/plain": [
       "[('id', 'string'),\n",
       " ('budget', 'float'),\n",
       " ('popularity', 'string'),\n",
       " ('release_date', 'string'),\n",
       " ('revenue', 'string'),\n",
       " ('title', 'string')]"
      ]
     },
     "execution_count": 21,
     "metadata": {},
     "output_type": "execute_result"
    }
   ],
   "source": [
    "df.dtypes"
   ]
  },
  {
   "cell_type": "code",
   "execution_count": 22,
   "id": "cf4df668",
   "metadata": {},
   "outputs": [
    {
     "name": "stdout",
     "output_type": "stream",
     "text": [
      "+-----+--------+----------+------------+-------+---------------------------------------+\n",
      "|id   |budget  |popularity|release_date|revenue|title                                  |\n",
      "+-----+--------+----------+------------+-------+---------------------------------------+\n",
      "|43000|0.0     |2.503     |1962-05-23  |0      |The Elusive Corporal                   |\n",
      "|43001|0.0     |5.51      |1962-11-12  |0      |Sundays and Cybele                     |\n",
      "|43002|0.0     |5.62      |1962-05-24  |0      |Lonely Are the Brave                   |\n",
      "|43003|0.0     |7.159     |1975-03-12  |0      |F for Fake                             |\n",
      "|43004|500000.0|3.988     |1962-10-09  |0      |Long Day's Journey Into Night          |\n",
      "|43006|0.0     |3.194     |1962-03-09  |0      |My Geisha                              |\n",
      "|43007|0.0     |2.689     |1962-10-31  |0      |Period of Adjustment                   |\n",
      "|43008|0.0     |6.537     |1959-03-13  |0      |The Hanging Tree                       |\n",
      "|43010|0.0     |4.297     |1962-01-01  |0      |Sherlock Holmes and the Deadly Necklace|\n",
      "|43011|0.0     |4.417     |1962-01-01  |0      |Sodom and Gomorrah                     |\n",
      "+-----+--------+----------+------------+-------+---------------------------------------+\n",
      "only showing top 10 rows\n",
      "\n"
     ]
    }
   ],
   "source": [
    "df.show(10, False)"
   ]
  },
  {
   "cell_type": "code",
   "execution_count": 23,
   "id": "793aecd4",
   "metadata": {},
   "outputs": [
    {
     "data": {
      "text/plain": [
       "[('id', 'string'),\n",
       " ('budget', 'float'),\n",
       " ('popularity', 'string'),\n",
       " ('release_date', 'string'),\n",
       " ('revenue', 'string'),\n",
       " ('title', 'string')]"
      ]
     },
     "execution_count": 23,
     "metadata": {},
     "output_type": "execute_result"
    }
   ],
   "source": [
    "df.dtypes"
   ]
  },
  {
   "cell_type": "code",
   "execution_count": 24,
   "id": "3ce5d9e5",
   "metadata": {},
   "outputs": [],
   "source": [
    "int_vars = ['id']\n",
    "date_vars = ['release_date']\n",
    "float_vars = ['budget' , 'popularity', 'revenue']"
   ]
  },
  {
   "cell_type": "code",
   "execution_count": 25,
   "id": "70e0e333",
   "metadata": {},
   "outputs": [],
   "source": [
    "from pyspark.sql.types import *\n",
    "\n",
    "for column in int_vars:\n",
    "    df = df.withColumn(column, col(column).cast(IntegerType()))\n",
    "    \n",
    "for column in date_vars:\n",
    "    df = df.withColumn(column, col(column).cast(DateType()))\n",
    "\n",
    "for column in float_vars:\n",
    "    df = df.withColumn(column, col(column).cast(FloatType()))\n"
   ]
  },
  {
   "cell_type": "code",
   "execution_count": 26,
   "id": "a75baae2",
   "metadata": {},
   "outputs": [
    {
     "data": {
      "text/plain": [
       "[('id', 'int'),\n",
       " ('budget', 'float'),\n",
       " ('popularity', 'float'),\n",
       " ('release_date', 'date'),\n",
       " ('revenue', 'float'),\n",
       " ('title', 'string')]"
      ]
     },
     "execution_count": 26,
     "metadata": {},
     "output_type": "execute_result"
    }
   ],
   "source": [
    "df.dtypes"
   ]
  },
  {
   "cell_type": "code",
   "execution_count": 27,
   "id": "11a5bb3c",
   "metadata": {
    "scrolled": true
   },
   "outputs": [
    {
     "name": "stdout",
     "output_type": "stream",
     "text": [
      "+-----+---------+----------+------------+---------+--------------------------------------------------+\n",
      "|id   |budget   |popularity|release_date|revenue  |title                                             |\n",
      "+-----+---------+----------+------------+---------+--------------------------------------------------+\n",
      "|43000|0.0      |2.503     |1962-05-23  |0.0      |The Elusive Corporal                              |\n",
      "|43001|0.0      |5.51      |1962-11-12  |0.0      |Sundays and Cybele                                |\n",
      "|43002|0.0      |5.62      |1962-05-24  |0.0      |Lonely Are the Brave                              |\n",
      "|43003|0.0      |7.159     |1975-03-12  |0.0      |F for Fake                                        |\n",
      "|43004|500000.0 |3.988     |1962-10-09  |0.0      |Long Day's Journey Into Night                     |\n",
      "|43006|0.0      |3.194     |1962-03-09  |0.0      |My Geisha                                         |\n",
      "|43007|0.0      |2.689     |1962-10-31  |0.0      |Period of Adjustment                              |\n",
      "|43008|0.0      |6.537     |1959-03-13  |0.0      |The Hanging Tree                                  |\n",
      "|43010|0.0      |4.297     |1962-01-01  |0.0      |Sherlock Holmes and the Deadly Necklace           |\n",
      "|43011|0.0      |4.417     |1962-01-01  |0.0      |Sodom and Gomorrah                                |\n",
      "|43012|7000000.0|4.722     |1962-11-21  |4000000.0|Taras Bulba                                       |\n",
      "|43013|0.0      |2.543     |1962-04-17  |0.0      |The Counterfeit Traitor                           |\n",
      "|43014|0.0      |4.303     |1962-10-24  |0.0      |Tower of London                                   |\n",
      "|43015|0.0      |3.493     |1962-12-07  |0.0      |Varan the Unbelievable                            |\n",
      "|43016|0.0      |2.851     |1962-01-01  |0.0      |Waltz of the Toreadors                            |\n",
      "|43017|0.0      |4.047     |1961-10-11  |0.0      |Back Street                                       |\n",
      "|43018|0.0      |2.661     |1961-06-02  |0.0      |Gidget Goes Hawaiian                              |\n",
      "|43019|0.0      |3.225     |2010-05-28  |0.0      |Schuks Tshabalala's Survival Guide to South Africa|\n",
      "|43020|0.0      |5.72      |1961-06-15  |0.0      |The Colossus of Rhodes                            |\n",
      "|43021|0.0      |3.292     |2008-08-22  |0.0      |Sex Galaxy                                        |\n",
      "+-----+---------+----------+------------+---------+--------------------------------------------------+\n",
      "only showing top 20 rows\n",
      "\n"
     ]
    }
   ],
   "source": [
    "df.show(20, False)"
   ]
  },
  {
   "cell_type": "code",
   "execution_count": 28,
   "id": "fbb9d36f",
   "metadata": {},
   "outputs": [
    {
     "name": "stdout",
     "output_type": "stream",
     "text": [
      "+-------+------------------+--------------------+-----------------+--------------------+--------------------+\n",
      "|summary|                id|              budget|       popularity|             revenue|               title|\n",
      "+-------+------------------+--------------------+-----------------+--------------------+--------------------+\n",
      "|  count|             43784|               43873|            43783|               43783|               43694|\n",
      "|   mean|44502.304312077475|   3736901.834963166|5.295444259579189|   9697079.597382545|            Infinity|\n",
      "| stddev|27189.646588626343|1.5871814952777334E7|6.168030519208248|5.6879384496288106E7|                 NaN|\n",
      "|    min|                 2|                 0.0|              0.6|                 0.0|!Women Art Revolu...|\n",
      "|    max|            100988|               3.8E8|            180.0|        2.78796518E9|       시크릿 Secret|\n",
      "+-------+------------------+--------------------+-----------------+--------------------+--------------------+\n",
      "\n"
     ]
    }
   ],
   "source": [
    "df.describe().show()"
   ]
  },
  {
   "cell_type": "code",
   "execution_count": 29,
   "id": "682c24e2",
   "metadata": {},
   "outputs": [],
   "source": [
    "df_temp = df.filter((col('budget') != 0) & (col('budget').isNotNull()) & (~isnan(col('budget'))))"
   ]
  },
  {
   "cell_type": "code",
   "execution_count": 30,
   "id": "639562aa",
   "metadata": {},
   "outputs": [
    {
     "data": {
      "text/plain": [
       "[6000000.0]"
      ]
     },
     "execution_count": 30,
     "metadata": {},
     "output_type": "execute_result"
    }
   ],
   "source": [
    "median = df_temp.approxQuantile('budget', [0.5], 0.1)\n",
    "median"
   ]
  },
  {
   "cell_type": "code",
   "execution_count": 31,
   "id": "4c3fbd16",
   "metadata": {},
   "outputs": [
    {
     "data": {
      "text/plain": [
       "[[6000000.0], [8.567000389099121], [1700000.0]]"
      ]
     },
     "execution_count": 31,
     "metadata": {},
     "output_type": "execute_result"
    }
   ],
   "source": [
    "median = df_temp.approxQuantile(float_vars, [0.5], 0.1)\n",
    "median"
   ]
  },
  {
   "cell_type": "code",
   "execution_count": 32,
   "id": "5007e851",
   "metadata": {},
   "outputs": [
    {
     "name": "stdout",
     "output_type": "stream",
     "text": [
      "+-----+\n",
      "|count|\n",
      "+-----+\n",
      "|41138|\n",
      "+-----+\n",
      "\n"
     ]
    }
   ],
   "source": [
    "df.agg(countDistinct(col('title')).alias('count')).show()"
   ]
  },
  {
   "cell_type": "code",
   "execution_count": 33,
   "id": "767c94d4",
   "metadata": {},
   "outputs": [
    {
     "name": "stdout",
     "output_type": "stream",
     "text": [
      "+---------------------------------------------+\n",
      "|title                                        |\n",
      "+---------------------------------------------+\n",
      "|The Corn Is Green                            |\n",
      "|Meet The Browns - The Play                   |\n",
      "|Morenita, El Escandalo                       |\n",
      "|Father Takes a Wife                          |\n",
      "|The Werewolf of Washington                   |\n",
      "|My Wife Is a Gangster                        |\n",
      "|Depeche Mode: Touring the Angel Live in Milan|\n",
      "|A Woman Is a Woman                           |\n",
      "|History Is Made at Night                     |\n",
      "|Colombian Love                               |\n",
      "+---------------------------------------------+\n",
      "only showing top 10 rows\n",
      "\n"
     ]
    }
   ],
   "source": [
    "df.select('title').distinct().show(10, False)"
   ]
  },
  {
   "cell_type": "code",
   "execution_count": 34,
   "id": "49642d06",
   "metadata": {},
   "outputs": [
    {
     "name": "stdout",
     "output_type": "stream",
     "text": [
      "+-----+---------+----------+------------+---------+--------------------+----+-----+\n",
      "|   id|   budget|popularity|release_date|  revenue|               title|year|month|\n",
      "+-----+---------+----------+------------+---------+--------------------+----+-----+\n",
      "|43000|      0.0|     2.503|  1962-05-23|      0.0|The Elusive Corporal|1962|    5|\n",
      "|43001|      0.0|      5.51|  1962-11-12|      0.0|  Sundays and Cybele|1962|   11|\n",
      "|43002|      0.0|      5.62|  1962-05-24|      0.0|Lonely Are the Brave|1962|    5|\n",
      "|43003|      0.0|     7.159|  1975-03-12|      0.0|          F for Fake|1975|    3|\n",
      "|43004| 500000.0|     3.988|  1962-10-09|      0.0|Long Day's Journe...|1962|   10|\n",
      "|43006|      0.0|     3.194|  1962-03-09|      0.0|           My Geisha|1962|    3|\n",
      "|43007|      0.0|     2.689|  1962-10-31|      0.0|Period of Adjustment|1962|   10|\n",
      "|43008|      0.0|     6.537|  1959-03-13|      0.0|    The Hanging Tree|1959|    3|\n",
      "|43010|      0.0|     4.297|  1962-01-01|      0.0|Sherlock Holmes a...|1962|    1|\n",
      "|43011|      0.0|     4.417|  1962-01-01|      0.0|  Sodom and Gomorrah|1962|    1|\n",
      "|43012|7000000.0|     4.722|  1962-11-21|4000000.0|         Taras Bulba|1962|   11|\n",
      "|43013|      0.0|     2.543|  1962-04-17|      0.0|The Counterfeit T...|1962|    4|\n",
      "|43014|      0.0|     4.303|  1962-10-24|      0.0|     Tower of London|1962|   10|\n",
      "|43015|      0.0|     3.493|  1962-12-07|      0.0|Varan the Unbelie...|1962|   12|\n",
      "|43016|      0.0|     2.851|  1962-01-01|      0.0|Waltz of the Tore...|1962|    1|\n",
      "|43017|      0.0|     4.047|  1961-10-11|      0.0|         Back Street|1961|   10|\n",
      "|43018|      0.0|     2.661|  1961-06-02|      0.0|Gidget Goes Hawaiian|1961|    6|\n",
      "|43019|      0.0|     3.225|  2010-05-28|      0.0|Schuks Tshabalala...|2010|    5|\n",
      "|43020|      0.0|      5.72|  1961-06-15|      0.0|The Colossus of R...|1961|    6|\n",
      "|43021|      0.0|     3.292|  2008-08-22|      0.0|          Sex Galaxy|2008|    8|\n",
      "+-----+---------+----------+------------+---------+--------------------+----+-----+\n",
      "only showing top 20 rows\n",
      "\n"
     ]
    }
   ],
   "source": [
    "df.withColumn('year', year(col('release_date')))\\\n",
    ".withColumn('month', month(col('release_date'))).show()"
   ]
  },
  {
   "cell_type": "code",
   "execution_count": 35,
   "id": "189d594e",
   "metadata": {},
   "outputs": [],
   "source": [
    "df_temp = df.withColumn('release_year', year('release_date'))"
   ]
  },
  {
   "cell_type": "code",
   "execution_count": 36,
   "id": "7100f439",
   "metadata": {},
   "outputs": [],
   "source": [
    "df_temp = df_temp.withColumn('relase month', month('release_date')) \\\n",
    "                  .withColumn('relase day', dayofmonth('release_date'))  "
   ]
  },
  {
   "cell_type": "code",
   "execution_count": 37,
   "id": "c3966f83",
   "metadata": {},
   "outputs": [
    {
     "name": "stdout",
     "output_type": "stream",
     "text": [
      "+-----+---------+----------+------------+---------+--------------------+------------+------------+----------+\n",
      "|   id|   budget|popularity|release_date|  revenue|               title|release_year|relase month|relase day|\n",
      "+-----+---------+----------+------------+---------+--------------------+------------+------------+----------+\n",
      "|43000|      0.0|     2.503|  1962-05-23|      0.0|The Elusive Corporal|        1962|           5|        23|\n",
      "|43001|      0.0|      5.51|  1962-11-12|      0.0|  Sundays and Cybele|        1962|          11|        12|\n",
      "|43002|      0.0|      5.62|  1962-05-24|      0.0|Lonely Are the Brave|        1962|           5|        24|\n",
      "|43003|      0.0|     7.159|  1975-03-12|      0.0|          F for Fake|        1975|           3|        12|\n",
      "|43004| 500000.0|     3.988|  1962-10-09|      0.0|Long Day's Journe...|        1962|          10|         9|\n",
      "|43006|      0.0|     3.194|  1962-03-09|      0.0|           My Geisha|        1962|           3|         9|\n",
      "|43007|      0.0|     2.689|  1962-10-31|      0.0|Period of Adjustment|        1962|          10|        31|\n",
      "|43008|      0.0|     6.537|  1959-03-13|      0.0|    The Hanging Tree|        1959|           3|        13|\n",
      "|43010|      0.0|     4.297|  1962-01-01|      0.0|Sherlock Holmes a...|        1962|           1|         1|\n",
      "|43011|      0.0|     4.417|  1962-01-01|      0.0|  Sodom and Gomorrah|        1962|           1|         1|\n",
      "|43012|7000000.0|     4.722|  1962-11-21|4000000.0|         Taras Bulba|        1962|          11|        21|\n",
      "|43013|      0.0|     2.543|  1962-04-17|      0.0|The Counterfeit T...|        1962|           4|        17|\n",
      "|43014|      0.0|     4.303|  1962-10-24|      0.0|     Tower of London|        1962|          10|        24|\n",
      "|43015|      0.0|     3.493|  1962-12-07|      0.0|Varan the Unbelie...|        1962|          12|         7|\n",
      "|43016|      0.0|     2.851|  1962-01-01|      0.0|Waltz of the Tore...|        1962|           1|         1|\n",
      "|43017|      0.0|     4.047|  1961-10-11|      0.0|         Back Street|        1961|          10|        11|\n",
      "|43018|      0.0|     2.661|  1961-06-02|      0.0|Gidget Goes Hawaiian|        1961|           6|         2|\n",
      "|43019|      0.0|     3.225|  2010-05-28|      0.0|Schuks Tshabalala...|        2010|           5|        28|\n",
      "|43020|      0.0|      5.72|  1961-06-15|      0.0|The Colossus of R...|        1961|           6|        15|\n",
      "|43021|      0.0|     3.292|  2008-08-22|      0.0|          Sex Galaxy|        2008|           8|        22|\n",
      "+-----+---------+----------+------------+---------+--------------------+------------+------------+----------+\n",
      "only showing top 20 rows\n",
      "\n"
     ]
    }
   ],
   "source": [
    "df_temp.show()"
   ]
  },
  {
   "cell_type": "code",
   "execution_count": 38,
   "id": "dc6cdb6f",
   "metadata": {},
   "outputs": [
    {
     "name": "stdout",
     "output_type": "stream",
     "text": [
      "+------------+-----+\n",
      "|release_year|count|\n",
      "+------------+-----+\n",
      "|2020        |1    |\n",
      "|2018        |4    |\n",
      "|2017        |6    |\n",
      "|2016        |7    |\n",
      "|2015        |13   |\n",
      "|2014        |32   |\n",
      "|2013        |106  |\n",
      "|2012        |634  |\n",
      "|2011        |2090 |\n",
      "|2010        |2064 |\n",
      "|2009        |2225 |\n",
      "|2008        |2052 |\n",
      "|2007        |1896 |\n",
      "|2006        |1719 |\n",
      "|2005        |1530 |\n",
      "|2004        |1379 |\n",
      "|2003        |1199 |\n",
      "|2002        |1123 |\n",
      "|2001        |1020 |\n",
      "|2000        |932  |\n",
      "+------------+-----+\n",
      "only showing top 20 rows\n",
      "\n"
     ]
    }
   ],
   "source": [
    "df_temp.groupBy('release_year').agg(countDistinct('title').alias('count')).sort(col('release_year').desc()).show(20, False)"
   ]
  },
  {
   "cell_type": "code",
   "execution_count": 39,
   "id": "2beca8eb",
   "metadata": {},
   "outputs": [
    {
     "name": "stdout",
     "output_type": "stream",
     "text": [
      "+-----+---------+----------+------------+---------+--------------------+\n",
      "|id   |budget   |popularity|release_date|revenue  |title               |\n",
      "+-----+---------+----------+------------+---------+--------------------+\n",
      "|20430|0.0      |3.614     |2004-01-29  |0.0      |Meet Market         |\n",
      "|58401|0.0      |6.461     |2010-11-12  |0.0      |Meet My Friend      |\n",
      "|909  |1707561.0|7.877     |1944-11-28  |7566000.0|Meet Me in St. Louis|\n",
      "|94452|0.0      |0.6       |2007-04-08  |0.0      |Meet Mr. Daddy      |\n",
      "|56928|5000000.0|5.649     |2010-06-04  |31649.0  |Meet Monica Velour  |\n",
      "+-----+---------+----------+------------+---------+--------------------+\n",
      "\n"
     ]
    }
   ],
   "source": [
    "df.filter(df['title'].like('Meet M%')).show(10, False)"
   ]
  },
  {
   "cell_type": "code",
   "execution_count": 40,
   "id": "ddf12e1b",
   "metadata": {},
   "outputs": [
    {
     "name": "stdout",
     "output_type": "stream",
     "text": [
      "+-----+--------+----------+------------+-------+---------------------------------------+\n",
      "|id   |budget  |popularity|release_date|revenue|title                                  |\n",
      "+-----+--------+----------+------------+-------+---------------------------------------+\n",
      "|43000|0.0     |2.503     |1962-05-23  |0.0    |The Elusive Corporal                   |\n",
      "|43001|0.0     |5.51      |1962-11-12  |0.0    |Sundays and Cybele                     |\n",
      "|43002|0.0     |5.62      |1962-05-24  |0.0    |Lonely Are the Brave                   |\n",
      "|43003|0.0     |7.159     |1975-03-12  |0.0    |F for Fake                             |\n",
      "|43004|500000.0|3.988     |1962-10-09  |0.0    |Long Day's Journey Into Night          |\n",
      "|43006|0.0     |3.194     |1962-03-09  |0.0    |My Geisha                              |\n",
      "|43007|0.0     |2.689     |1962-10-31  |0.0    |Period of Adjustment                   |\n",
      "|43008|0.0     |6.537     |1959-03-13  |0.0    |The Hanging Tree                       |\n",
      "|43010|0.0     |4.297     |1962-01-01  |0.0    |Sherlock Holmes and the Deadly Necklace|\n",
      "|43011|0.0     |4.417     |1962-01-01  |0.0    |Sodom and Gomorrah                     |\n",
      "+-----+--------+----------+------------+-------+---------------------------------------+\n",
      "only showing top 10 rows\n",
      "\n"
     ]
    }
   ],
   "source": [
    "df.filter(~ df['title'].like('%s')).show(10, False)"
   ]
  },
  {
   "cell_type": "code",
   "execution_count": 41,
   "id": "6178be32",
   "metadata": {},
   "outputs": [
    {
     "name": "stdout",
     "output_type": "stream",
     "text": [
      "+-----+------+----------+------------+------------+----------------------+\n",
      "|id   |budget|popularity|release_date|revenue     |title                 |\n",
      "+-----+------+----------+------------+------------+----------------------+\n",
      "|43016|0.0   |2.851     |1962-01-01  |0.0         |Waltz of the Toreadors|\n",
      "|43020|0.0   |5.72      |1961-06-15  |0.0         |The Colossus of Rhodes|\n",
      "|43026|0.0   |3.444     |1961-12-13  |0.0         |Paris Belongs to Us   |\n",
      "|43031|0.0   |1.847     |1960-02-19  |0.0         |Devi - The Goddess    |\n",
      "|43035|0.0   |6.383     |1960-03-01  |0.0         |Heller in Pink Tights |\n",
      "|43047|0.0   |3.988     |1960-12-08  |0.0         |The Sundowners        |\n",
      "|43059|0.0   |1.932     |2002-07-23  |0.0         |Con Express           |\n",
      "|43074|1.44E8|17.568    |2016-07-14  |2.29147504E8|Ghostbusters          |\n",
      "|43076|0.0   |3.252     |2006-09-15  |0.0         |Sons                  |\n",
      "|43078|0.0   |1.248     |2006-06-15  |0.0         |Whaledreamers         |\n",
      "+-----+------+----------+------------+------------+----------------------+\n",
      "only showing top 10 rows\n",
      "\n"
     ]
    }
   ],
   "source": [
    "df.filter(df['title'].like('%s')).show(10, False)"
   ]
  },
  {
   "cell_type": "code",
   "execution_count": 42,
   "id": "79416531",
   "metadata": {},
   "outputs": [
    {
     "name": "stdout",
     "output_type": "stream",
     "text": [
      "+-----+------+----------+------------+------------+------------------------+\n",
      "|id   |budget|popularity|release_date|revenue     |title                   |\n",
      "+-----+------+----------+------------+------------+------------------------+\n",
      "|43100|0.0   |7.252     |1959-10-07  |0.0         |General Della Rovere    |\n",
      "|43152|0.0   |5.126     |2001-06-21  |0.0         |Love on a Diet          |\n",
      "|43191|0.0   |4.921     |1952-08-29  |0.0         |Beware, My Lovely       |\n",
      "|43281|0.0   |2.411     |1989-11-22  |0.0         |Love Without Pity       |\n",
      "|43343|0.0   |3.174     |1953-12-25  |0.0         |Easy to Love            |\n",
      "|43347|3.0E7 |14.863    |2010-11-22  |1.02820008E8|Love & Other Drugs      |\n",
      "|43362|0.0   |1.705     |1952-02-23  |0.0         |Love Is Better Than Ever|\n",
      "|43363|0.0   |2.02      |1952-05-29  |0.0         |Lovely to Look At       |\n",
      "|43395|0.0   |4.758     |1950-11-10  |0.0         |Two Weeks with Love     |\n",
      "|43455|0.0   |4.669     |1948-08-23  |0.0         |The Loves of Carmen     |\n",
      "+-----+------+----------+------------+------------+------------------------+\n",
      "only showing top 10 rows\n",
      "\n"
     ]
    }
   ],
   "source": [
    "df.filter(df['title'].rlike('\\w*ove')).show(10,False)"
   ]
  },
  {
   "cell_type": "code",
   "execution_count": 43,
   "id": "2492917e",
   "metadata": {},
   "outputs": [
    {
     "name": "stdout",
     "output_type": "stream",
     "text": [
      "+-----+------+----------+------------+------------+------------------------+\n",
      "|id   |budget|popularity|release_date|revenue     |title                   |\n",
      "+-----+------+----------+------------+------------+------------------------+\n",
      "|43100|0.0   |7.252     |1959-10-07  |0.0         |General Della Rovere    |\n",
      "|43152|0.0   |5.126     |2001-06-21  |0.0         |Love on a Diet          |\n",
      "|43191|0.0   |4.921     |1952-08-29  |0.0         |Beware, My Lovely       |\n",
      "|43281|0.0   |2.411     |1989-11-22  |0.0         |Love Without Pity       |\n",
      "|43343|0.0   |3.174     |1953-12-25  |0.0         |Easy to Love            |\n",
      "|43347|3.0E7 |14.863    |2010-11-22  |1.02820008E8|Love & Other Drugs      |\n",
      "|43362|0.0   |1.705     |1952-02-23  |0.0         |Love Is Better Than Ever|\n",
      "|43363|0.0   |2.02      |1952-05-29  |0.0         |Lovely to Look At       |\n",
      "|43395|0.0   |4.758     |1950-11-10  |0.0         |Two Weeks with Love     |\n",
      "|43455|0.0   |4.669     |1948-08-23  |0.0         |The Loves of Carmen     |\n",
      "+-----+------+----------+------------+------------+------------------------+\n",
      "only showing top 10 rows\n",
      "\n"
     ]
    }
   ],
   "source": [
    "df.filter(df['title'].contains('ove')).show(10, False)"
   ]
  },
  {
   "cell_type": "code",
   "execution_count": 44,
   "id": "91ae458e",
   "metadata": {},
   "outputs": [
    {
     "name": "stdout",
     "output_type": "stream",
     "text": [
      "+------------+---------+\n",
      "|release_date|  revenue|\n",
      "+------------+---------+\n",
      "|  1962-05-23|      0.0|\n",
      "|  1962-11-12|      0.0|\n",
      "|  1962-05-24|      0.0|\n",
      "|  1975-03-12|      0.0|\n",
      "|  1962-10-09|      0.0|\n",
      "|  1962-03-09|      0.0|\n",
      "|  1962-10-31|      0.0|\n",
      "|  1959-03-13|      0.0|\n",
      "|  1962-01-01|      0.0|\n",
      "|  1962-01-01|      0.0|\n",
      "|  1962-11-21|4000000.0|\n",
      "|  1962-04-17|      0.0|\n",
      "|  1962-10-24|      0.0|\n",
      "|  1962-12-07|      0.0|\n",
      "|  1962-01-01|      0.0|\n",
      "|  1961-10-11|      0.0|\n",
      "|  1961-06-02|      0.0|\n",
      "|  2010-05-28|      0.0|\n",
      "|  1961-06-15|      0.0|\n",
      "|  2008-08-22|      0.0|\n",
      "+------------+---------+\n",
      "only showing top 20 rows\n",
      "\n"
     ]
    }
   ],
   "source": [
    "var = df.select(df.colRegex(\"`re\\w*`\")).show()"
   ]
  },
  {
   "cell_type": "code",
   "execution_count": 45,
   "id": "c0f6ab0c",
   "metadata": {},
   "outputs": [
    {
     "data": {
      "text/plain": [
       "['release_date', 'revenue']"
      ]
     },
     "execution_count": 45,
     "metadata": {},
     "output_type": "execute_result"
    }
   ],
   "source": [
    "var = df.select(df.colRegex(\"`re\\w*`\")).columns\n",
    "var"
   ]
  },
  {
   "cell_type": "code",
   "execution_count": 46,
   "id": "39c1de94",
   "metadata": {},
   "outputs": [
    {
     "name": "stdout",
     "output_type": "stream",
     "text": [
      "root\n",
      " |-- release_date: date (nullable = true)\n",
      " |-- revenue: float (nullable = true)\n",
      "\n"
     ]
    }
   ],
   "source": [
    "df.select(df.colRegex(\"`re\\w*`\")).printSchema()"
   ]
  },
  {
   "cell_type": "code",
   "execution_count": 47,
   "id": "ee9ab74d",
   "metadata": {},
   "outputs": [
    {
     "name": "stdout",
     "output_type": "stream",
     "text": [
      "root\n",
      " |-- release_date: date (nullable = true)\n",
      " |-- revenue: float (nullable = true)\n",
      " |-- title: string (nullable = true)\n",
      "\n"
     ]
    }
   ],
   "source": [
    "df.select(df.colRegex(\"`\\w*e`\")).printSchema()"
   ]
  },
  {
   "cell_type": "code",
   "execution_count": 48,
   "id": "1ef5c03f",
   "metadata": {},
   "outputs": [],
   "source": [
    "mean_pop = df.agg({'popularity' : 'mean'}).collect()[0]['avg(popularity)']\n",
    "count_df = df.count()"
   ]
  },
  {
   "cell_type": "code",
   "execution_count": 49,
   "id": "19f7c13b",
   "metadata": {},
   "outputs": [
    {
     "name": "stdout",
     "output_type": "stream",
     "text": [
      "5.295444259579189 43998\n"
     ]
    }
   ],
   "source": [
    "print(mean_pop, count_df)"
   ]
  },
  {
   "cell_type": "code",
   "execution_count": 50,
   "id": "360da6f1",
   "metadata": {},
   "outputs": [
    {
     "name": "stdout",
     "output_type": "stream",
     "text": [
      "+-----+---------+----------+------------+---------+--------------------+-----------------+\n",
      "|   id|   budget|popularity|release_date|  revenue|               title|         mean_pop|\n",
      "+-----+---------+----------+------------+---------+--------------------+-----------------+\n",
      "|43000|      0.0|     2.503|  1962-05-23|      0.0|The Elusive Corporal|5.295444259579189|\n",
      "|43001|      0.0|      5.51|  1962-11-12|      0.0|  Sundays and Cybele|5.295444259579189|\n",
      "|43002|      0.0|      5.62|  1962-05-24|      0.0|Lonely Are the Brave|5.295444259579189|\n",
      "|43003|      0.0|     7.159|  1975-03-12|      0.0|          F for Fake|5.295444259579189|\n",
      "|43004| 500000.0|     3.988|  1962-10-09|      0.0|Long Day's Journe...|5.295444259579189|\n",
      "|43006|      0.0|     3.194|  1962-03-09|      0.0|           My Geisha|5.295444259579189|\n",
      "|43007|      0.0|     2.689|  1962-10-31|      0.0|Period of Adjustment|5.295444259579189|\n",
      "|43008|      0.0|     6.537|  1959-03-13|      0.0|    The Hanging Tree|5.295444259579189|\n",
      "|43010|      0.0|     4.297|  1962-01-01|      0.0|Sherlock Holmes a...|5.295444259579189|\n",
      "|43011|      0.0|     4.417|  1962-01-01|      0.0|  Sodom and Gomorrah|5.295444259579189|\n",
      "|43012|7000000.0|     4.722|  1962-11-21|4000000.0|         Taras Bulba|5.295444259579189|\n",
      "|43013|      0.0|     2.543|  1962-04-17|      0.0|The Counterfeit T...|5.295444259579189|\n",
      "|43014|      0.0|     4.303|  1962-10-24|      0.0|     Tower of London|5.295444259579189|\n",
      "|43015|      0.0|     3.493|  1962-12-07|      0.0|Varan the Unbelie...|5.295444259579189|\n",
      "|43016|      0.0|     2.851|  1962-01-01|      0.0|Waltz of the Tore...|5.295444259579189|\n",
      "|43017|      0.0|     4.047|  1961-10-11|      0.0|         Back Street|5.295444259579189|\n",
      "|43018|      0.0|     2.661|  1961-06-02|      0.0|Gidget Goes Hawaiian|5.295444259579189|\n",
      "|43019|      0.0|     3.225|  2010-05-28|      0.0|Schuks Tshabalala...|5.295444259579189|\n",
      "|43020|      0.0|      5.72|  1961-06-15|      0.0|The Colossus of R...|5.295444259579189|\n",
      "|43021|      0.0|     3.292|  2008-08-22|      0.0|          Sex Galaxy|5.295444259579189|\n",
      "+-----+---------+----------+------------+---------+--------------------+-----------------+\n",
      "only showing top 20 rows\n",
      "\n"
     ]
    }
   ],
   "source": [
    "df = df.withColumn('mean_pop', lit(mean_pop))\n",
    "df.show()"
   ]
  },
  {
   "cell_type": "code",
   "execution_count": 51,
   "id": "2655db3c",
   "metadata": {
    "scrolled": true
   },
   "outputs": [
    {
     "name": "stdout",
     "output_type": "stream",
     "text": [
      "+-----+---------+----------+------------+---------+--------------------+-----------------+--------------------+\n",
      "|   id|   budget|popularity|release_date|  revenue|               title|         mean_pop|            variance|\n",
      "+-----+---------+----------+------------+---------+--------------------+-----------------+--------------------+\n",
      "|43000|      0.0|     2.503|  1962-05-23|      0.0|The Elusive Corporal|5.295444259579189|   7.797744825681142|\n",
      "|43001|      0.0|      5.51|  1962-11-12|      0.0|  Sundays and Cybele|5.295444259579189|0.046034263963398346|\n",
      "|43002|      0.0|      5.62|  1962-05-24|      0.0|Lonely Are the Brave|5.295444259579189| 0.10533635435520017|\n",
      "|43003|      0.0|     7.159|  1975-03-12|      0.0|          F for Fake|5.295444259579189|  3.4728396990815216|\n",
      "|43004| 500000.0|     3.988|  1962-10-09|      0.0|Long Day's Journe...|5.295444259579189|   1.709410711356759|\n",
      "|43006|      0.0|     3.194|  1962-03-09|      0.0|           My Geisha|5.295444259579189|   4.416067952069205|\n",
      "|43007|      0.0|     2.689|  1962-10-31|      0.0|Period of Adjustment|5.295444259579189|   6.793552245032679|\n",
      "|43008|      0.0|     6.537|  1959-03-13|      0.0|    The Hanging Tree|5.295444259579189|  1.5414611017708733|\n",
      "|43010|      0.0|     4.297|  1962-01-01|      0.0|Sherlock Holmes a...|5.295444259579189|   0.996891076602093|\n",
      "|43011|      0.0|     4.417|  1962-01-01|      0.0|  Sodom and Gomorrah|5.295444259579189|  0.7716646388835591|\n",
      "|43012|7000000.0|     4.722|  1962-11-21|4000000.0|         Taras Bulba|5.295444259579189| 0.32883817884329936|\n",
      "|43013|      0.0|     2.543|  1962-04-17|      0.0|The Counterfeit T...|5.295444259579189|   7.575949496588105|\n",
      "|43014|      0.0|     4.303|  1962-10-24|      0.0|     Tower of London|5.295444259579189|  0.9849456613739271|\n",
      "|43015|      0.0|     3.493|  1962-12-07|      0.0|Varan the Unbelie...|5.295444259579189|   3.248805198877505|\n",
      "|43016|      0.0|     2.851|  1962-01-01|      0.0|Waltz of the Tore...|5.295444259579189|   5.975307393171506|\n",
      "|43017|      0.0|     4.047|  1961-10-11|      0.0|         Back Street|5.295444259579189|  1.5586132407239628|\n",
      "|43018|      0.0|     2.661|  1961-06-02|      0.0|Gidget Goes Hawaiian|5.295444259579189|   6.940296486482491|\n",
      "|43019|      0.0|     3.225|  2010-05-28|      0.0|Schuks Tshabalala...|5.295444259579189|  4.2867398269303285|\n",
      "|43020|      0.0|      5.72|  1961-06-15|      0.0|The Colossus of R...|5.295444259579189|  0.1802473985736286|\n",
      "|43021|      0.0|     3.292|  2008-08-22|      0.0|          Sex Galaxy|5.295444259579189|   4.013788679607341|\n",
      "+-----+---------+----------+------------+---------+--------------------+-----------------+--------------------+\n",
      "only showing top 20 rows\n",
      "\n"
     ]
    }
   ],
   "source": [
    "df = df.withColumn('variance', pow((df['popularity'] - df['mean_pop']),2))\n",
    "df.show()"
   ]
  },
  {
   "cell_type": "code",
   "execution_count": 52,
   "id": "a1f3dcc2",
   "metadata": {},
   "outputs": [
    {
     "data": {
      "text/plain": [
       "1665668.6984729888"
      ]
     },
     "execution_count": 52,
     "metadata": {},
     "output_type": "execute_result"
    }
   ],
   "source": [
    "variance_sum = df.agg({'variance' : 'sum'}).collect()[0]['sum(variance)']\n",
    "variance_sum"
   ]
  },
  {
   "cell_type": "code",
   "execution_count": 53,
   "id": "59071b17",
   "metadata": {},
   "outputs": [
    {
     "data": {
      "text/plain": [
       "36.85782759382219"
      ]
     },
     "execution_count": 53,
     "metadata": {},
     "output_type": "execute_result"
    }
   ],
   "source": [
    "variance_pop = variance_sum/count_df-1\n",
    "variance_pop"
   ]
  },
  {
   "cell_type": "code",
   "execution_count": 54,
   "id": "db060796",
   "metadata": {},
   "outputs": [
    {
     "data": {
      "text/plain": [
       "1665668.6984729888"
      ]
     },
     "execution_count": 54,
     "metadata": {},
     "output_type": "execute_result"
    }
   ],
   "source": [
    "x=df.agg({'variance': 'sum'}).collect()[0]['sum(variance)']\n",
    "x"
   ]
  },
  {
   "cell_type": "code",
   "execution_count": 55,
   "id": "c76375e8",
   "metadata": {},
   "outputs": [],
   "source": [
    "def new_cols(budget,popularity):\n",
    "    if budget < 10000000:\n",
    "        budget_cat = \"Small\"\n",
    "    elif budget<100000000:\n",
    "        budget_cat = \"Medium\"\n",
    "    else:\n",
    "        budget_cat = \"Big\"\n",
    "        \n",
    "    if popularity < 3:\n",
    "        ratings = \"low\"\n",
    "    elif popularity < 5:\n",
    "        ratings = 'mid'\n",
    "    else:\n",
    "        ratings = 'high'\n",
    "    \n",
    "    return budget_cat, ratings"
   ]
  },
  {
   "cell_type": "code",
   "execution_count": 56,
   "id": "df542f77",
   "metadata": {},
   "outputs": [],
   "source": [
    "udfb = udf(new_cols, StructType([StructField(\"budget_cat\",StringType(), True), StructField('ratings', StringType(), True)]))"
   ]
  },
  {
   "cell_type": "code",
   "execution_count": 57,
   "id": "4daee6bb",
   "metadata": {},
   "outputs": [
    {
     "name": "stdout",
     "output_type": "stream",
     "text": [
      "+-----+--------+----------+-------------+\n",
      "|id   |budget  |popularity|newcat       |\n",
      "+-----+--------+----------+-------------+\n",
      "|43000|0.0     |2.503     |{Small, low} |\n",
      "|43001|0.0     |5.51      |{Small, high}|\n",
      "|43002|0.0     |5.62      |{Small, high}|\n",
      "|43003|0.0     |7.159     |{Small, high}|\n",
      "|43004|500000.0|3.988     |{Small, mid} |\n",
      "|43006|0.0     |3.194     |{Small, mid} |\n",
      "|43007|0.0     |2.689     |{Small, low} |\n",
      "|43008|0.0     |6.537     |{Small, high}|\n",
      "|43010|0.0     |4.297     |{Small, mid} |\n",
      "|43011|0.0     |4.417     |{Small, mid} |\n",
      "+-----+--------+----------+-------------+\n",
      "only showing top 10 rows\n",
      "\n"
     ]
    }
   ],
   "source": [
    "temp_df = df.select('id', 'budget', 'popularity')\\\n",
    "            .withColumn('newcat', udfb(\"budget\",\"popularity\"))\n",
    "temp_df.show(10, False)"
   ]
  },
  {
   "cell_type": "code",
   "execution_count": 58,
   "id": "0dd0dcdf",
   "metadata": {},
   "outputs": [
    {
     "name": "stdout",
     "output_type": "stream",
     "text": [
      "+-----+--------+----------+----------+-------+\n",
      "|id   |budget  |popularity|budget_cat|ratings|\n",
      "+-----+--------+----------+----------+-------+\n",
      "|43000|0.0     |2.503     |Small     |low    |\n",
      "|43001|0.0     |5.51      |Small     |high   |\n",
      "|43002|0.0     |5.62      |Small     |high   |\n",
      "|43003|0.0     |7.159     |Small     |high   |\n",
      "|43004|500000.0|3.988     |Small     |mid    |\n",
      "|43006|0.0     |3.194     |Small     |mid    |\n",
      "|43007|0.0     |2.689     |Small     |low    |\n",
      "|43008|0.0     |6.537     |Small     |high   |\n",
      "|43010|0.0     |4.297     |Small     |mid    |\n",
      "|43011|0.0     |4.417     |Small     |mid    |\n",
      "+-----+--------+----------+----------+-------+\n",
      "only showing top 10 rows\n",
      "\n"
     ]
    }
   ],
   "source": [
    "df_with_newcols = temp_df.select('id', 'budget', 'popularity', 'newcat') \\\n",
    "                          .withColumn('budget_cat', temp_df.newcat.getItem(\"budget_cat\"))\\\n",
    "                          .withColumn('ratings', temp_df.newcat.getItem(\"ratings\")).drop('newcat')\n",
    "\n",
    "df_with_newcols.show(10,False)"
   ]
  },
  {
   "cell_type": "code",
   "execution_count": 59,
   "id": "f483df2f",
   "metadata": {},
   "outputs": [
    {
     "name": "stdout",
     "output_type": "stream",
     "text": [
      "+-----+---------+----------+----------+-------+\n",
      "|   id|   budget|popularity|budget_cat|ratings|\n",
      "+-----+---------+----------+----------+-------+\n",
      "|43000|      0.0|     2.503|     small|    low|\n",
      "|43001|      0.0|      5.51|     small|   High|\n",
      "|43002|      0.0|      5.62|     small|   High|\n",
      "|43003|      0.0|     7.159|     small|   High|\n",
      "|43004| 500000.0|     3.988|     small|    Mid|\n",
      "|43006|      0.0|     3.194|     small|    Mid|\n",
      "|43007|      0.0|     2.689|     small|    low|\n",
      "|43008|      0.0|     6.537|     small|   High|\n",
      "|43010|      0.0|     4.297|     small|    Mid|\n",
      "|43011|      0.0|     4.417|     small|    Mid|\n",
      "|43012|7000000.0|     4.722|     small|    Mid|\n",
      "|43013|      0.0|     2.543|     small|    low|\n",
      "|43014|      0.0|     4.303|     small|    Mid|\n",
      "|43015|      0.0|     3.493|     small|    Mid|\n",
      "|43016|      0.0|     2.851|     small|    low|\n",
      "|43017|      0.0|     4.047|     small|    Mid|\n",
      "|43018|      0.0|     2.661|     small|    low|\n",
      "|43019|      0.0|     3.225|     small|    Mid|\n",
      "|43020|      0.0|      5.72|     small|   High|\n",
      "|43021|      0.0|     3.292|     small|    Mid|\n",
      "+-----+---------+----------+----------+-------+\n",
      "only showing top 20 rows\n",
      "\n"
     ]
    }
   ],
   "source": [
    "df_with_newcols = df.select('id', 'budget', 'popularity') \\\n",
    "                    .withColumn('budget_cat', when(df['budget'] < 10000000, 'small').when(df['budget'] < 100000000, 'medium').otherwise('big'))\\\n",
    "                     .withColumn('ratings', when(df['popularity'] < 3, 'low').when(df['popularity'] < 5, 'Mid').otherwise('High'))\n",
    "    \n",
    "df_with_newcols.show()"
   ]
  },
  {
   "cell_type": "code",
   "execution_count": 60,
   "id": "8cd6d178",
   "metadata": {},
   "outputs": [
    {
     "name": "stdout",
     "output_type": "stream",
     "text": [
      "+-----+--------+----------+-------+\n",
      "|id   |budget  |popularity|ratings|\n",
      "+-----+--------+----------+-------+\n",
      "|43000|0.0     |2.503     |low    |\n",
      "|43001|0.0     |5.51      |High   |\n",
      "|43002|0.0     |5.62      |High   |\n",
      "|43003|0.0     |7.159     |High   |\n",
      "|43004|500000.0|3.988     |Mid    |\n",
      "|43006|0.0     |3.194     |Mid    |\n",
      "|43007|0.0     |2.689     |low    |\n",
      "|43008|0.0     |6.537     |High   |\n",
      "|43010|0.0     |4.297     |Mid    |\n",
      "|43011|0.0     |4.417     |Mid    |\n",
      "+-----+--------+----------+-------+\n",
      "only showing top 10 rows\n",
      "\n"
     ]
    }
   ],
   "source": [
    "col_to_drop = ['budget_cat']\n",
    "df_with_newcols = df_with_newcols.drop(*col_to_drop)\n",
    "df_with_newcols.show(10,False)"
   ]
  },
  {
   "cell_type": "code",
   "execution_count": 61,
   "id": "66f721d6",
   "metadata": {},
   "outputs": [],
   "source": [
    "df_with_newcols = df_with_newcols.withColumnRenamed('id','film_id') \\\n",
    "                    .withColumnRenamed('ratings','film_ratings')"
   ]
  },
  {
   "cell_type": "code",
   "execution_count": 62,
   "id": "7638843d",
   "metadata": {},
   "outputs": [
    {
     "name": "stdout",
     "output_type": "stream",
     "text": [
      "+-------+--------+----------+------------+\n",
      "|film_id|budget  |popularity|film_ratings|\n",
      "+-------+--------+----------+------------+\n",
      "|43000  |0.0     |2.503     |low         |\n",
      "|43001  |0.0     |5.51      |High        |\n",
      "|43002  |0.0     |5.62      |High        |\n",
      "|43003  |0.0     |7.159     |High        |\n",
      "|43004  |500000.0|3.988     |Mid         |\n",
      "|43006  |0.0     |3.194     |Mid         |\n",
      "|43007  |0.0     |2.689     |low         |\n",
      "|43008  |0.0     |6.537     |High        |\n",
      "|43010  |0.0     |4.297     |Mid         |\n",
      "|43011  |0.0     |4.417     |Mid         |\n",
      "+-------+--------+----------+------------+\n",
      "only showing top 10 rows\n",
      "\n"
     ]
    }
   ],
   "source": [
    "df_with_newcols.show(10, False)"
   ]
  },
  {
   "cell_type": "code",
   "execution_count": 63,
   "id": "a425def8",
   "metadata": {},
   "outputs": [],
   "source": [
    "new_names = [('budget','budget_film'), ('popularity', 'popularity_file')]"
   ]
  },
  {
   "cell_type": "code",
   "execution_count": 64,
   "id": "08a0040d",
   "metadata": {
    "scrolled": true
   },
   "outputs": [
    {
     "name": "stdout",
     "output_type": "stream",
     "text": [
      "+-----------+---------------+\n",
      "|budget_film|popularity_file|\n",
      "+-----------+---------------+\n",
      "|0.0        |2.503          |\n",
      "|0.0        |5.51           |\n",
      "|0.0        |5.62           |\n",
      "|0.0        |7.159          |\n",
      "|500000.0   |3.988          |\n",
      "|0.0        |3.194          |\n",
      "|0.0        |2.689          |\n",
      "|0.0        |6.537          |\n",
      "|0.0        |4.297          |\n",
      "|0.0        |4.417          |\n",
      "+-----------+---------------+\n",
      "only showing top 10 rows\n",
      "\n"
     ]
    }
   ],
   "source": [
    "df_with_newcols = df_with_newcols.select(list(map(lambda old,new: col(old).alias(new), *zip(*new_names))))\n",
    "df_with_newcols.show(10, False)"
   ]
  },
  {
   "cell_type": "code",
   "execution_count": 65,
   "id": "3605c630",
   "metadata": {},
   "outputs": [
    {
     "name": "stdout",
     "output_type": "stream",
     "text": [
      "+-----+--------+----------+------------+-------+---------------------------------------+-----------------+--------------------+\n",
      "|id   |budget  |popularity|release_date|revenue|title                                  |mean_pop         |variance            |\n",
      "+-----+--------+----------+------------+-------+---------------------------------------+-----------------+--------------------+\n",
      "|43000|0.0     |2.503     |1962-05-23  |0.0    |The Elusive Corporal                   |5.295444259579189|7.797744825681142   |\n",
      "|43001|0.0     |5.51      |1962-11-12  |0.0    |Sundays and Cybele                     |5.295444259579189|0.046034263963398346|\n",
      "|43002|0.0     |5.62      |1962-05-24  |0.0    |Lonely Are the Brave                   |5.295444259579189|0.10533635435520017 |\n",
      "|43003|0.0     |7.159     |1975-03-12  |0.0    |F for Fake                             |5.295444259579189|3.4728396990815216  |\n",
      "|43004|500000.0|3.988     |1962-10-09  |0.0    |Long Day's Journey Into Night          |5.295444259579189|1.709410711356759   |\n",
      "|43006|0.0     |3.194     |1962-03-09  |0.0    |My Geisha                              |5.295444259579189|4.416067952069205   |\n",
      "|43007|0.0     |2.689     |1962-10-31  |0.0    |Period of Adjustment                   |5.295444259579189|6.793552245032679   |\n",
      "|43008|0.0     |6.537     |1959-03-13  |0.0    |The Hanging Tree                       |5.295444259579189|1.5414611017708733  |\n",
      "|43010|0.0     |4.297     |1962-01-01  |0.0    |Sherlock Holmes and the Deadly Necklace|5.295444259579189|0.996891076602093   |\n",
      "|43011|0.0     |4.417     |1962-01-01  |0.0    |Sodom and Gomorrah                     |5.295444259579189|0.7716646388835591  |\n",
      "+-----+--------+----------+------------+-------+---------------------------------------+-----------------+--------------------+\n",
      "only showing top 10 rows\n",
      "\n"
     ]
    }
   ],
   "source": [
    "df.show(10, False)"
   ]
  },
  {
   "cell_type": "code",
   "execution_count": 66,
   "id": "8fa3d9fe",
   "metadata": {},
   "outputs": [
    {
     "name": "stdout",
     "output_type": "stream",
     "text": [
      "+-----+--------+----------+----------+-------+\n",
      "|id   |budget  |popularity|budget_cat|ratings|\n",
      "+-----+--------+----------+----------+-------+\n",
      "|43000|0.0     |2.503     |Small     |Low    |\n",
      "|43001|0.0     |5.51      |Small     |High   |\n",
      "|43002|0.0     |5.62      |Small     |High   |\n",
      "|43003|0.0     |7.159     |Small     |High   |\n",
      "|43004|500000.0|3.988     |Small     |Mid    |\n",
      "|43006|0.0     |3.194     |Small     |Mid    |\n",
      "|43007|0.0     |2.689     |Small     |Low    |\n",
      "|43008|0.0     |6.537     |Small     |High   |\n",
      "|43010|0.0     |4.297     |Small     |Mid    |\n",
      "|43011|0.0     |4.417     |Small     |Mid    |\n",
      "+-----+--------+----------+----------+-------+\n",
      "only showing top 10 rows\n",
      "\n"
     ]
    }
   ],
   "source": [
    "df_with_cols = df.select('id', 'budget', 'popularity')\\\n",
    "               .withColumn('budget_cat', when(df['budget'] < 10000000, 'Small').when(df['budget'] < 100000000, 'Medium').otherwise('big'))\\\n",
    "                .withColumn('ratings', when(df['popularity'] < 3,'Low').when(df['popularity'] < 5, 'Mid').otherwise('High'))\n",
    "    \n",
    "\n",
    "df_with_cols.show(10,False)"
   ]
  },
  {
   "cell_type": "code",
   "execution_count": 67,
   "id": "abd3b928",
   "metadata": {},
   "outputs": [
    {
     "name": "stdout",
     "output_type": "stream",
     "text": [
      "+-----+--------+----------+----------+-------+---------------------+\n",
      "|id   |budget  |popularity|budget_cat|ratings|Concat_budget_ratings|\n",
      "+-----+--------+----------+----------+-------+---------------------+\n",
      "|43000|0.0     |2.503     |Small     |Low    |SmallLow             |\n",
      "|43001|0.0     |5.51      |Small     |High   |SmallHigh            |\n",
      "|43002|0.0     |5.62      |Small     |High   |SmallHigh            |\n",
      "|43003|0.0     |7.159     |Small     |High   |SmallHigh            |\n",
      "|43004|500000.0|3.988     |Small     |Mid    |SmallMid             |\n",
      "|43006|0.0     |3.194     |Small     |Mid    |SmallMid             |\n",
      "|43007|0.0     |2.689     |Small     |Low    |SmallLow             |\n",
      "|43008|0.0     |6.537     |Small     |High   |SmallHigh            |\n",
      "|43010|0.0     |4.297     |Small     |Mid    |SmallMid             |\n",
      "|43011|0.0     |4.417     |Small     |Mid    |SmallMid             |\n",
      "+-----+--------+----------+----------+-------+---------------------+\n",
      "only showing top 10 rows\n",
      "\n"
     ]
    }
   ],
   "source": [
    "df_with_cols = df_with_cols.withColumn('Concat_budget_ratings', concat(col('budget_cat'), col('ratings')))\n",
    "df_with_cols.show(10,False)"
   ]
  },
  {
   "cell_type": "code",
   "execution_count": 68,
   "id": "2219d85a",
   "metadata": {},
   "outputs": [],
   "source": [
    "df_with_cols = df_with_cols.withColumn('Small_concat', trim(lower(concat(col('budget_cat'), lit(' '), col('ratings')))))"
   ]
  },
  {
   "cell_type": "code",
   "execution_count": 69,
   "id": "dc8547cb",
   "metadata": {},
   "outputs": [
    {
     "name": "stdout",
     "output_type": "stream",
     "text": [
      "+-----+--------+----------+----------+-------+---------------------+------------+\n",
      "|id   |budget  |popularity|budget_cat|ratings|Concat_budget_ratings|Small_concat|\n",
      "+-----+--------+----------+----------+-------+---------------------+------------+\n",
      "|43000|0.0     |2.503     |Small     |Low    |SmallLow             |small low   |\n",
      "|43001|0.0     |5.51      |Small     |High   |SmallHigh            |small high  |\n",
      "|43002|0.0     |5.62      |Small     |High   |SmallHigh            |small high  |\n",
      "|43003|0.0     |7.159     |Small     |High   |SmallHigh            |small high  |\n",
      "|43004|500000.0|3.988     |Small     |Mid    |SmallMid             |small mid   |\n",
      "|43006|0.0     |3.194     |Small     |Mid    |SmallMid             |small mid   |\n",
      "|43007|0.0     |2.689     |Small     |Low    |SmallLow             |small low   |\n",
      "|43008|0.0     |6.537     |Small     |High   |SmallHigh            |small high  |\n",
      "|43010|0.0     |4.297     |Small     |Mid    |SmallMid             |small mid   |\n",
      "|43011|0.0     |4.417     |Small     |Mid    |SmallMid             |small mid   |\n",
      "+-----+--------+----------+----------+-------+---------------------+------------+\n",
      "only showing top 10 rows\n",
      "\n"
     ]
    }
   ],
   "source": [
    "df_with_cols.show(10,False)"
   ]
  },
  {
   "cell_type": "code",
   "execution_count": 70,
   "id": "fd5a5153",
   "metadata": {},
   "outputs": [
    {
     "name": "stderr",
     "output_type": "stream",
     "text": [
      "E:\\spark\\spark-3.3.0-bin-hadoop3\\spark-3.3.0-bin-hadoop3\\python\\pyspark\\sql\\dataframe.py:229: FutureWarning: Deprecated in 2.0, use createOrReplaceTempView instead.\n",
      "  warnings.warn(\"Deprecated in 2.0, use createOrReplaceTempView instead.\", FutureWarning)\n"
     ]
    }
   ],
   "source": [
    "df_with_cols.registerTempTable('temp_data')"
   ]
  },
  {
   "cell_type": "code",
   "execution_count": 71,
   "id": "2c9290f4",
   "metadata": {},
   "outputs": [
    {
     "name": "stdout",
     "output_type": "stream",
     "text": [
      "+-------+--------+\n",
      "|ratings|count(1)|\n",
      "+-------+--------+\n",
      "|High   |16856   |\n",
      "|Low    |14865   |\n",
      "|Mid    |12277   |\n",
      "+-------+--------+\n",
      "\n"
     ]
    }
   ],
   "source": [
    "spark.sql('select ratings, count(*) from temp_data group by ratings').show(10,False)"
   ]
  },
  {
   "cell_type": "code",
   "execution_count": 72,
   "id": "7ebbc191",
   "metadata": {},
   "outputs": [
    {
     "name": "stdout",
     "output_type": "stream",
     "text": [
      "+----------+------+\n",
      "|popularity|bucket|\n",
      "+----------+------+\n",
      "|2.503     |Low   |\n",
      "|5.51      |High  |\n",
      "|5.62      |High  |\n",
      "|7.159     |High  |\n",
      "|3.988     |Mid   |\n",
      "|3.194     |Mid   |\n",
      "|2.689     |Low   |\n",
      "|6.537     |High  |\n",
      "|4.297     |Mid   |\n",
      "|4.417     |Mid   |\n",
      "+----------+------+\n",
      "only showing top 10 rows\n",
      "\n"
     ]
    }
   ],
   "source": [
    "spark.sql('select popularity, case when popularity < 3 then \"Low\" when popularity < 5 then \"Mid\" else \"High\" end as bucket from  temp_data').show(10,False)"
   ]
  },
  {
   "cell_type": "code",
   "execution_count": 73,
   "id": "b31df0d8",
   "metadata": {},
   "outputs": [
    {
     "name": "stdout",
     "output_type": "stream",
     "text": [
      "+-----+--------+----------+----------+-------+---------------------+------------+\n",
      "|id   |budget  |popularity|budget_cat|ratings|Concat_budget_ratings|Small_concat|\n",
      "+-----+--------+----------+----------+-------+---------------------+------------+\n",
      "|43000|0.0     |2.503     |Small     |Low    |SmallLow             |small low   |\n",
      "|43001|0.0     |5.51      |Small     |High   |SmallHigh            |small high  |\n",
      "|43002|0.0     |5.62      |Small     |High   |SmallHigh            |small high  |\n",
      "|43003|0.0     |7.159     |Small     |High   |SmallHigh            |small high  |\n",
      "|43004|500000.0|3.988     |Small     |Mid    |SmallMid             |small mid   |\n",
      "|43006|0.0     |3.194     |Small     |Mid    |SmallMid             |small mid   |\n",
      "|43007|0.0     |2.689     |Small     |Low    |SmallLow             |small low   |\n",
      "|43008|0.0     |6.537     |Small     |High   |SmallHigh            |small high  |\n",
      "|43010|0.0     |4.297     |Small     |Mid    |SmallMid             |small mid   |\n",
      "|43011|0.0     |4.417     |Small     |Mid    |SmallMid             |small mid   |\n",
      "+-----+--------+----------+----------+-------+---------------------+------------+\n",
      "only showing top 10 rows\n",
      "\n"
     ]
    }
   ],
   "source": [
    "df_with_newcols = df_with_cols.filter((df_with_cols['popularity'].isNotNull()) & (~isnan(df_with_cols['popularity'])) )\n",
    "df_with_newcols.show(10, False)"
   ]
  },
  {
   "cell_type": "code",
   "execution_count": 74,
   "id": "5ea956fa",
   "metadata": {},
   "outputs": [
    {
     "name": "stdout",
     "output_type": "stream",
     "text": [
      "+----+------+----------+-----------+\n",
      "|id  |budget|popularity|decile_rank|\n",
      "+----+------+----------+-----------+\n",
      "|null|0.6   |180.0     |1          |\n",
      "|null|3.585 |180.0     |1          |\n",
      "|6795|6.5E7 |161.547   |2          |\n",
      "|null|0.939 |159.0     |3          |\n",
      "|null|0.877 |155.0     |4          |\n",
      "|null|4.892 |153.0     |5          |\n",
      "|null|0.616 |150.0     |6          |\n",
      "|null|1.4   |150.0     |7          |\n",
      "|null|0.674 |150.0     |8          |\n",
      "|null|2.923 |142.0     |9          |\n",
      "+----+------+----------+-----------+\n",
      "only showing top 10 rows\n",
      "\n"
     ]
    }
   ],
   "source": [
    "from pyspark.sql.window import *\n",
    "\n",
    "df_with_newcols = df_with_newcols.select('id', 'budget', 'popularity', ntile(10).over(Window.partitionBy()\\\n",
    "                    .orderBy(df_with_cols['popularity'].desc())).alias(\"decile_rank\"))\n",
    "\n",
    "df_with_newcols.show(10, False)"
   ]
  },
  {
   "cell_type": "markdown",
   "id": "9e0bac9f",
   "metadata": {},
   "source": [
    "### title ###custom"
   ]
  },
  {
   "cell_type": "markdown",
   "id": "d119cdf5",
   "metadata": {},
   "source": [
    "### title ###custom"
   ]
  },
  {
   "cell_type": "code",
   "execution_count": 75,
   "id": "3ee4b6f7",
   "metadata": {},
   "outputs": [
    {
     "name": "stdout",
     "output_type": "stream",
     "text": [
      "+-----------+--------------+--------------+-----------------+\n",
      "|decile_rank|min_popularity|max_popularity|count(popularity)|\n",
      "+-----------+--------------+--------------+-----------------+\n",
      "|          1|        10.185|         180.0|             4379|\n",
      "|          2|         7.481|        10.182|             4379|\n",
      "|          3|         5.841|         7.481|             4379|\n",
      "|          4|         4.823|         5.841|             4378|\n",
      "|          5|         4.054|         4.822|             4378|\n",
      "|          6|         3.383|         4.054|             4378|\n",
      "|          7|         2.747|         3.383|             4378|\n",
      "|          8|         2.075|         2.747|             4378|\n",
      "|          9|         1.389|         2.075|             4378|\n",
      "|         10|           0.6|         1.389|             4378|\n",
      "+-----------+--------------+--------------+-----------------+\n",
      "\n"
     ]
    }
   ],
   "source": [
    "df_with_newcols.groupBy('decile_rank')\\\n",
    "                .agg(\\\n",
    "                     min('popularity').alias('min_popularity'),\\\n",
    "                     max('popularity').alias('max_popularity'),\\\n",
    "                    count('popularity')\\\n",
    "                    ).show()"
   ]
  },
  {
   "cell_type": "code",
   "execution_count": 76,
   "id": "9f57cac8",
   "metadata": {},
   "outputs": [
    {
     "name": "stdout",
     "output_type": "stream",
     "text": [
      "+-----+----------+------------+----+\n",
      "|   id|popularity|release_date|year|\n",
      "+-----+----------+------------+----+\n",
      "|43000|     2.503|  1962-05-23|1962|\n",
      "|43001|      5.51|  1962-11-12|1962|\n",
      "|43002|      5.62|  1962-05-24|1962|\n",
      "|43003|     7.159|  1975-03-12|1975|\n",
      "|43004|     3.988|  1962-10-09|1962|\n",
      "|43006|     3.194|  1962-03-09|1962|\n",
      "|43007|     2.689|  1962-10-31|1962|\n",
      "|43008|     6.537|  1959-03-13|1959|\n",
      "|43010|     4.297|  1962-01-01|1962|\n",
      "|43011|     4.417|  1962-01-01|1962|\n",
      "|43012|     4.722|  1962-11-21|1962|\n",
      "|43013|     2.543|  1962-04-17|1962|\n",
      "|43014|     4.303|  1962-10-24|1962|\n",
      "|43015|     3.493|  1962-12-07|1962|\n",
      "|43016|     2.851|  1962-01-01|1962|\n",
      "|43017|     4.047|  1961-10-11|1961|\n",
      "|43018|     2.661|  1961-06-02|1961|\n",
      "|43019|     3.225|  2010-05-28|2010|\n",
      "|43020|      5.72|  1961-06-15|1961|\n",
      "|43021|     3.292|  2008-08-22|2008|\n",
      "+-----+----------+------------+----+\n",
      "only showing top 20 rows\n",
      "\n"
     ]
    }
   ],
   "source": [
    "from pyspark.sql.window import *\n",
    "df_second_best = df.select('id', 'popularity', 'release_date', year(col('release_date')).alias('year'))\n",
    "df_second_best.show()"
   ]
  },
  {
   "cell_type": "code",
   "execution_count": 77,
   "id": "b5ea6c27",
   "metadata": {},
   "outputs": [],
   "source": [
    "year_window = Window.partitionBy(df_second_best['year']).orderBy(df_second_best['popularity'].desc())"
   ]
  },
  {
   "cell_type": "code",
   "execution_count": 78,
   "id": "bb10b1f6",
   "metadata": {},
   "outputs": [],
   "source": [
    "df_second_best = df_second_best.select('id', 'popularity', 'year',rank().over(year_window).alias('rank') )"
   ]
  },
  {
   "cell_type": "code",
   "execution_count": 79,
   "id": "6f133cf5",
   "metadata": {},
   "outputs": [
    {
     "name": "stdout",
     "output_type": "stream",
     "text": [
      "+-----+----------+----+----+\n",
      "|   id|popularity|year|rank|\n",
      "+-----+----------+----+----+\n",
      "|11202|    14.029|1970|   2|\n",
      "+-----+----------+----+----+\n",
      "\n"
     ]
    }
   ],
   "source": [
    "df_second_best.filter((df_second_best['year']==1970) & (df_second_best['rank']==2)).show()"
   ]
  },
  {
   "cell_type": "code",
   "execution_count": 80,
   "id": "aed1629c",
   "metadata": {
    "scrolled": true
   },
   "outputs": [
    {
     "name": "stdout",
     "output_type": "stream",
     "text": [
      "+-----+--------+----------+------------+-------+---------------------------------------+-----------------+--------------------+\n",
      "|id   |budget  |popularity|release_date|revenue|title                                  |mean_pop         |variance            |\n",
      "+-----+--------+----------+------------+-------+---------------------------------------+-----------------+--------------------+\n",
      "|43000|0.0     |2.503     |1962-05-23  |0.0    |The Elusive Corporal                   |5.295444259579189|7.797744825681142   |\n",
      "|43001|0.0     |5.51      |1962-11-12  |0.0    |Sundays and Cybele                     |5.295444259579189|0.046034263963398346|\n",
      "|43002|0.0     |5.62      |1962-05-24  |0.0    |Lonely Are the Brave                   |5.295444259579189|0.10533635435520017 |\n",
      "|43003|0.0     |7.159     |1975-03-12  |0.0    |F for Fake                             |5.295444259579189|3.4728396990815216  |\n",
      "|43004|500000.0|3.988     |1962-10-09  |0.0    |Long Day's Journey Into Night          |5.295444259579189|1.709410711356759   |\n",
      "|43006|0.0     |3.194     |1962-03-09  |0.0    |My Geisha                              |5.295444259579189|4.416067952069205   |\n",
      "|43007|0.0     |2.689     |1962-10-31  |0.0    |Period of Adjustment                   |5.295444259579189|6.793552245032679   |\n",
      "|43008|0.0     |6.537     |1959-03-13  |0.0    |The Hanging Tree                       |5.295444259579189|1.5414611017708733  |\n",
      "|43010|0.0     |4.297     |1962-01-01  |0.0    |Sherlock Holmes and the Deadly Necklace|5.295444259579189|0.996891076602093   |\n",
      "|43011|0.0     |4.417     |1962-01-01  |0.0    |Sodom and Gomorrah                     |5.295444259579189|0.7716646388835591  |\n",
      "+-----+--------+----------+------------+-------+---------------------------------------+-----------------+--------------------+\n",
      "only showing top 10 rows\n",
      "\n"
     ]
    }
   ],
   "source": [
    "df.show(10, False)"
   ]
  },
  {
   "cell_type": "code",
   "execution_count": 81,
   "id": "edd0a766",
   "metadata": {},
   "outputs": [],
   "source": [
    "#df_with_newcols.write.format('csv').option('delimiter', '|').save(r'C:\\Users\\HP\\Pyspark\\output_df')"
   ]
  },
  {
   "cell_type": "code",
   "execution_count": 82,
   "id": "a99ea9d8",
   "metadata": {},
   "outputs": [],
   "source": [
    "#df_with_newcols.write.mode('overwrite').csv(r'C:\\Users\\HP\\Pyspark\\output_df')"
   ]
  },
  {
   "cell_type": "code",
   "execution_count": 83,
   "id": "7d44d860",
   "metadata": {},
   "outputs": [],
   "source": [
    "#df_with_newcols.write.saveAsTable('film_ratings')"
   ]
  },
  {
   "cell_type": "code",
   "execution_count": 84,
   "id": "2fbb847c",
   "metadata": {},
   "outputs": [],
   "source": [
    "df_Pandas = df_with_newcols.toPandas()"
   ]
  },
  {
   "cell_type": "code",
   "execution_count": 85,
   "id": "1fa5b528",
   "metadata": {},
   "outputs": [
    {
     "name": "stdout",
     "output_type": "stream",
     "text": [
      "<class 'pandas.core.frame.DataFrame'>\n",
      "RangeIndex: 43783 entries, 0 to 43782\n",
      "Data columns (total 4 columns):\n",
      " #   Column       Non-Null Count  Dtype  \n",
      "---  ------       --------------  -----  \n",
      " 0   id           43694 non-null  float64\n",
      " 1   budget       43783 non-null  float32\n",
      " 2   popularity   43783 non-null  float32\n",
      " 3   decile_rank  43783 non-null  int32  \n",
      "dtypes: float32(2), float64(1), int32(1)\n",
      "memory usage: 855.3 KB\n"
     ]
    }
   ],
   "source": [
    "df_Pandas.info()"
   ]
  },
  {
   "cell_type": "code",
   "execution_count": 86,
   "id": "b4ffa253",
   "metadata": {},
   "outputs": [],
   "source": [
    "df_py = spark.createDataFrame(df_Pandas)"
   ]
  },
  {
   "cell_type": "code",
   "execution_count": 87,
   "id": "a5946d1e",
   "metadata": {},
   "outputs": [
    {
     "name": "stdout",
     "output_type": "stream",
     "text": [
      "+------+------------------+-----------------+-----------+\n",
      "|id    |budget            |popularity       |decile_rank|\n",
      "+------+------------------+-----------------+-----------+\n",
      "|NaN   |0.6000000238418579|180.0            |1          |\n",
      "|NaN   |3.5850000381469727|180.0            |1          |\n",
      "|6795.0|6.5E7             |161.5469970703125|1          |\n",
      "|NaN   |0.9390000104904175|159.0            |1          |\n",
      "|NaN   |0.8769999742507935|155.0            |1          |\n",
      "|NaN   |4.892000198364258 |153.0            |1          |\n",
      "|NaN   |1.399999976158142 |150.0            |1          |\n",
      "|NaN   |0.6740000247955322|150.0            |1          |\n",
      "|NaN   |0.6159999966621399|150.0            |1          |\n",
      "|NaN   |0.8399999737739563|142.0            |1          |\n",
      "+------+------------------+-----------------+-----------+\n",
      "only showing top 10 rows\n",
      "\n"
     ]
    }
   ],
   "source": [
    "df_py.show(10,False)"
   ]
  },
  {
   "cell_type": "code",
   "execution_count": 88,
   "id": "f3f8717c",
   "metadata": {},
   "outputs": [],
   "source": [
    "file_location = \"movie_data_part2_v1.csv\"\n",
    "delimter = '|'\n",
    "header = True\n",
    "file_type = \"csv\"\n",
    "inferSchema = False"
   ]
  },
  {
   "cell_type": "code",
   "execution_count": 90,
   "id": "3c75aef0",
   "metadata": {},
   "outputs": [],
   "source": [
    "df_p1 = spark.read.format(file_type)\\\n",
    "        .option('header', header)\\\n",
    "        .option('inferSchema',inferSchema )\\\n",
    "        .option('sep', delimter)\\\n",
    "        .option('header', header)\\\n",
    "        .load(file_location)"
   ]
  },
  {
   "cell_type": "code",
   "execution_count": 92,
   "id": "cd80bfe2",
   "metadata": {
    "scrolled": true
   },
   "outputs": [
    {
     "name": "stdout",
     "output_type": "stream",
     "text": [
      "root\n",
      " |-- cast: string (nullable = true)\n",
      " |-- adult: string (nullable = true)\n",
      " |-- directors: string (nullable = true)\n",
      " |-- vote_count: string (nullable = true)\n",
      " |-- spoken_languages: string (nullable = true)\n",
      " |-- poster_path: string (nullable = true)\n",
      " |-- homepage: string (nullable = true)\n",
      " |-- imdb_id: string (nullable = true)\n",
      " |-- genres: string (nullable = true)\n",
      " |-- video: string (nullable = true)\n",
      " |-- id: string (nullable = true)\n",
      "\n"
     ]
    }
   ],
   "source": [
    "df_p1.printSchema()"
   ]
  },
  {
   "cell_type": "code",
   "execution_count": 93,
   "id": "d46f0154",
   "metadata": {},
   "outputs": [
    {
     "data": {
      "text/plain": [
       "24998"
      ]
     },
     "execution_count": 93,
     "metadata": {},
     "output_type": "execute_result"
    }
   ],
   "source": [
    "df_p1.count()"
   ]
  },
  {
   "cell_type": "code",
   "execution_count": 95,
   "id": "c1781b7f",
   "metadata": {},
   "outputs": [
    {
     "data": {
      "text/plain": [
       "24998"
      ]
     },
     "execution_count": 95,
     "metadata": {},
     "output_type": "execute_result"
    }
   ],
   "source": [
    "df_p1 = df_p1.withColumn('id', df_p1['id'].cast('integer'))\n",
    "df_p1 = df_p1.filter((df_p1['id'].isNotNull()) & (~isnan(df_p1['id'])))\n",
    "df_p1.count()"
   ]
  },
  {
   "cell_type": "code",
   "execution_count": 98,
   "id": "ffb9d368",
   "metadata": {},
   "outputs": [
    {
     "name": "stdout",
     "output_type": "stream",
     "text": [
      "root\n",
      " |-- id: integer (nullable = true)\n",
      " |-- budget: float (nullable = true)\n",
      " |-- popularity: float (nullable = true)\n",
      " |-- release_date: date (nullable = true)\n",
      " |-- revenue: float (nullable = true)\n",
      " |-- title: string (nullable = true)\n",
      " |-- mean_pop: double (nullable = false)\n",
      " |-- variance: double (nullable = true)\n",
      " |-- cast: string (nullable = true)\n",
      " |-- adult: string (nullable = true)\n",
      " |-- directors: string (nullable = true)\n",
      " |-- vote_count: string (nullable = true)\n",
      " |-- spoken_languages: string (nullable = true)\n",
      " |-- poster_path: string (nullable = true)\n",
      " |-- homepage: string (nullable = true)\n",
      " |-- imdb_id: string (nullable = true)\n",
      " |-- genres: string (nullable = true)\n",
      " |-- video: string (nullable = true)\n",
      " |-- id: integer (nullable = true)\n",
      "\n"
     ]
    },
    {
     "data": {
      "text/plain": [
       "24998"
      ]
     },
     "execution_count": 98,
     "metadata": {},
     "output_type": "execute_result"
    }
   ],
   "source": [
    "df.join(df_p1, df['id'] == df_p1['id'], 'inner').printSchema()\n",
    "df.join(df_p1, df['id'] == df_p1['id'], 'inner').count()"
   ]
  },
  {
   "cell_type": "code",
   "execution_count": 100,
   "id": "c70f9852",
   "metadata": {},
   "outputs": [
    {
     "name": "stdout",
     "output_type": "stream",
     "text": [
      "root\n",
      " |-- id: integer (nullable = true)\n",
      " |-- budget: float (nullable = true)\n",
      " |-- popularity: float (nullable = true)\n",
      " |-- release_date: date (nullable = true)\n",
      " |-- revenue: float (nullable = true)\n",
      " |-- title: string (nullable = true)\n",
      " |-- mean_pop: double (nullable = false)\n",
      " |-- variance: double (nullable = true)\n",
      " |-- cast: string (nullable = true)\n",
      " |-- adult: string (nullable = true)\n",
      " |-- directors: string (nullable = true)\n",
      " |-- vote_count: string (nullable = true)\n",
      " |-- spoken_languages: string (nullable = true)\n",
      " |-- poster_path: string (nullable = true)\n",
      " |-- homepage: string (nullable = true)\n",
      " |-- imdb_id: string (nullable = true)\n",
      " |-- genres: string (nullable = true)\n",
      " |-- video: string (nullable = true)\n",
      " |-- id: integer (nullable = true)\n",
      "\n"
     ]
    },
    {
     "data": {
      "text/plain": [
       "43998"
      ]
     },
     "execution_count": 100,
     "metadata": {},
     "output_type": "execute_result"
    }
   ],
   "source": [
    "# Left Join\n",
    "df.join(df_p1, df['id'] == df_p1['id'],'left').printSchema()\n",
    "df.join(df_p1, df['id'] == df_p1['id'],'left').count()"
   ]
  },
  {
   "cell_type": "code",
   "execution_count": 101,
   "id": "6547fa7f",
   "metadata": {},
   "outputs": [
    {
     "name": "stdout",
     "output_type": "stream",
     "text": [
      "root\n",
      " |-- id: integer (nullable = true)\n",
      " |-- budget: float (nullable = true)\n",
      " |-- popularity: float (nullable = true)\n",
      " |-- release_date: date (nullable = true)\n",
      " |-- revenue: float (nullable = true)\n",
      " |-- title: string (nullable = true)\n",
      " |-- mean_pop: double (nullable = true)\n",
      " |-- variance: double (nullable = true)\n",
      " |-- cast: string (nullable = true)\n",
      " |-- adult: string (nullable = true)\n",
      " |-- directors: string (nullable = true)\n",
      " |-- vote_count: string (nullable = true)\n",
      " |-- spoken_languages: string (nullable = true)\n",
      " |-- poster_path: string (nullable = true)\n",
      " |-- homepage: string (nullable = true)\n",
      " |-- imdb_id: string (nullable = true)\n",
      " |-- genres: string (nullable = true)\n",
      " |-- video: string (nullable = true)\n",
      " |-- id: integer (nullable = true)\n",
      "\n"
     ]
    },
    {
     "data": {
      "text/plain": [
       "24998"
      ]
     },
     "execution_count": 101,
     "metadata": {},
     "output_type": "execute_result"
    }
   ],
   "source": [
    "# Right Join\n",
    "df.join(df_p1, df['id'] == df_p1['id'],'right').printSchema()\n",
    "df.join(df_p1, df['id'] == df_p1['id'],'right').count()"
   ]
  },
  {
   "cell_type": "code",
   "execution_count": 103,
   "id": "73e652b9",
   "metadata": {},
   "outputs": [
    {
     "name": "stdout",
     "output_type": "stream",
     "text": [
      "root\n",
      " |-- id: integer (nullable = true)\n",
      " |-- budget: float (nullable = true)\n",
      " |-- popularity: float (nullable = true)\n",
      " |-- release_date: date (nullable = true)\n",
      " |-- revenue: float (nullable = true)\n",
      " |-- title: string (nullable = true)\n",
      " |-- mean_pop: double (nullable = true)\n",
      " |-- variance: double (nullable = true)\n",
      " |-- cast: string (nullable = true)\n",
      " |-- adult: string (nullable = true)\n",
      " |-- directors: string (nullable = true)\n",
      " |-- vote_count: string (nullable = true)\n",
      " |-- spoken_languages: string (nullable = true)\n",
      " |-- poster_path: string (nullable = true)\n",
      " |-- homepage: string (nullable = true)\n",
      " |-- imdb_id: string (nullable = true)\n",
      " |-- genres: string (nullable = true)\n",
      " |-- video: string (nullable = true)\n",
      " |-- id: integer (nullable = true)\n",
      "\n"
     ]
    },
    {
     "data": {
      "text/plain": [
       "43998"
      ]
     },
     "execution_count": 103,
     "metadata": {},
     "output_type": "execute_result"
    }
   ],
   "source": [
    "# Outer Join\n",
    "df.join(df_p1, df['id'] == df_p1['id'],'outer').printSchema()\n",
    "df.join(df_p1, df['id'] == df_p1['id'],'outer').count()"
   ]
  },
  {
   "cell_type": "code",
   "execution_count": 104,
   "id": "f4c0a3c1",
   "metadata": {},
   "outputs": [
    {
     "name": "stdout",
     "output_type": "stream",
     "text": [
      "root\n",
      " |-- id: integer (nullable = true)\n",
      " |-- budget: float (nullable = true)\n",
      " |-- popularity: float (nullable = true)\n",
      " |-- release_date: date (nullable = true)\n",
      " |-- revenue: float (nullable = true)\n",
      " |-- title: string (nullable = true)\n",
      " |-- mean_pop: double (nullable = false)\n",
      " |-- variance: double (nullable = true)\n",
      "\n"
     ]
    },
    {
     "data": {
      "text/plain": [
       "24998"
      ]
     },
     "execution_count": 104,
     "metadata": {},
     "output_type": "execute_result"
    }
   ],
   "source": [
    "# Left Semi Join\n",
    "df.join(df_p1, df['id'] == df_p1['id'],'left_semi').printSchema()\n",
    "df.join(df_p1, df['id'] == df_p1['id'],'left_semi').count()"
   ]
  },
  {
   "cell_type": "code",
   "execution_count": 106,
   "id": "408d0025",
   "metadata": {},
   "outputs": [
    {
     "name": "stdout",
     "output_type": "stream",
     "text": [
      "root\n",
      " |-- id: integer (nullable = true)\n",
      " |-- budget: float (nullable = true)\n",
      " |-- popularity: float (nullable = true)\n",
      " |-- release_date: date (nullable = true)\n",
      " |-- revenue: float (nullable = true)\n",
      " |-- title: string (nullable = true)\n",
      " |-- mean_pop: double (nullable = false)\n",
      " |-- variance: double (nullable = true)\n",
      " |-- cast: string (nullable = true)\n",
      " |-- adult: string (nullable = true)\n",
      " |-- directors: string (nullable = true)\n",
      " |-- vote_count: string (nullable = true)\n",
      " |-- spoken_languages: string (nullable = true)\n",
      " |-- poster_path: string (nullable = true)\n",
      " |-- homepage: string (nullable = true)\n",
      " |-- imdb_id: string (nullable = true)\n",
      " |-- genres: string (nullable = true)\n",
      " |-- video: string (nullable = true)\n",
      " |-- id: integer (nullable = true)\n",
      "\n"
     ]
    },
    {
     "data": {
      "text/plain": [
       "24998"
      ]
     },
     "execution_count": 106,
     "metadata": {},
     "output_type": "execute_result"
    }
   ],
   "source": [
    "df.join(broadcast(df_p1), df['id'] == df_p1['id'], 'inner').printSchema()\n",
    "df.join(broadcast(df_p1), df['id'] == df_p1['id'], 'inner').count()"
   ]
  },
  {
   "cell_type": "code",
   "execution_count": 111,
   "id": "ad9fcf53",
   "metadata": {},
   "outputs": [
    {
     "name": "stdout",
     "output_type": "stream",
     "text": [
      "root\n",
      " |-- id: integer (nullable = true)\n",
      " |-- budget: float (nullable = true)\n",
      " |-- popularity: float (nullable = true)\n",
      " |-- release_date: date (nullable = true)\n",
      " |-- revenue: float (nullable = true)\n",
      " |-- title: string (nullable = true)\n",
      " |-- mean_pop: double (nullable = false)\n",
      " |-- variance: double (nullable = true)\n",
      " |-- release_year: integer (nullable = true)\n",
      "\n"
     ]
    },
    {
     "data": {
      "text/plain": [
       "43998"
      ]
     },
     "execution_count": 111,
     "metadata": {},
     "output_type": "execute_result"
    }
   ],
   "source": [
    "df = df.withColumn('release_year', year(df['release_date']))\n",
    "df.printSchema()\n",
    "df.count()"
   ]
  },
  {
   "cell_type": "code",
   "execution_count": 112,
   "id": "75ead106",
   "metadata": {},
   "outputs": [
    {
     "data": {
      "text/plain": [
       "43643"
      ]
     },
     "execution_count": 112,
     "metadata": {},
     "output_type": "execute_result"
    }
   ],
   "source": [
    "df.dropDuplicates(['title', 'release_year']).count()"
   ]
  },
  {
   "cell_type": "code",
   "execution_count": 113,
   "id": "7c10dace",
   "metadata": {},
   "outputs": [],
   "source": [
    "# Histogram Demonstration\n",
    "%matplotlib inline\n",
    "import pandas as pd\n",
    "from matplotlib import pyplot as plt\n",
    "import seaborn as sns\n",
    "# Processing the data in Spark. We can use the histogram function from the RDD \n",
    "histogram_data = df.select('popularity').rdd.flatMap(lambda x: x).histogram(25)\n",
    "# Loading the Computed Histogram into a Pandas Dataframe for plotting\n",
    "hist_df=pd.DataFrame(list(zip(*histogram_data)), columns=['bin', 'frequency'])"
   ]
  },
  {
   "cell_type": "code",
   "execution_count": 116,
   "id": "2a6c9909",
   "metadata": {},
   "outputs": [
    {
     "data": {
      "text/plain": [
       "([0.6000000238418579,\n",
       "  7.776000022888184,\n",
       "  14.95200002193451,\n",
       "  22.128000020980835,\n",
       "  29.30400002002716,\n",
       "  36.480000019073486,\n",
       "  43.65600001811981,\n",
       "  50.83200001716614,\n",
       "  58.00800001621246,\n",
       "  65.18400001525879,\n",
       "  72.36000001430511,\n",
       "  79.53600001335144,\n",
       "  86.71200001239777,\n",
       "  93.88800001144409,\n",
       "  101.06400001049042,\n",
       "  108.24000000953674,\n",
       "  115.41600000858307,\n",
       "  122.5920000076294,\n",
       "  129.76800000667572,\n",
       "  136.94400000572205,\n",
       "  144.12000000476837,\n",
       "  151.2960000038147,\n",
       "  158.47200000286102,\n",
       "  165.64800000190735,\n",
       "  172.82400000095367,\n",
       "  180.0],\n",
       " [35637,\n",
       "  6835,\n",
       "  981,\n",
       "  168,\n",
       "  49,\n",
       "  12,\n",
       "  3,\n",
       "  3,\n",
       "  3,\n",
       "  5,\n",
       "  5,\n",
       "  15,\n",
       "  11,\n",
       "  15,\n",
       "  10,\n",
       "  8,\n",
       "  7,\n",
       "  3,\n",
       "  1,\n",
       "  3,\n",
       "  3,\n",
       "  2,\n",
       "  2,\n",
       "  0,\n",
       "  2])"
      ]
     },
     "execution_count": 116,
     "metadata": {},
     "output_type": "execute_result"
    }
   ],
   "source": [
    "histogram_data"
   ]
  },
  {
   "cell_type": "code",
   "execution_count": null,
   "id": "5ff2e1aa",
   "metadata": {},
   "outputs": [],
   "source": []
  }
 ],
 "metadata": {
  "kernelspec": {
   "display_name": "Python 3 (ipykernel)",
   "language": "python",
   "name": "python3"
  },
  "language_info": {
   "codemirror_mode": {
    "name": "ipython",
    "version": 3
   },
   "file_extension": ".py",
   "mimetype": "text/x-python",
   "name": "python",
   "nbconvert_exporter": "python",
   "pygments_lexer": "ipython3",
   "version": "3.9.12"
  }
 },
 "nbformat": 4,
 "nbformat_minor": 5
}
